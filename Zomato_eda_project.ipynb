{
  "nbformat": 4,
  "nbformat_minor": 0,
  "metadata": {
    "colab": {
      "provenance": []
    },
    "kernelspec": {
      "name": "python3",
      "display_name": "Python 3"
    },
    "language_info": {
      "name": "python"
    }
  },
  "cells": [
    {
      "cell_type": "markdown",
      "source": [
        "#importing libraries"
      ],
      "metadata": {
        "id": "V6Rm1h-1o5QR"
      }
    },
    {
      "cell_type": "code",
      "execution_count": 2,
      "metadata": {
        "id": "lQRi2AQvoEcQ"
      },
      "outputs": [],
      "source": [
        "import numpy as np\n",
        "import pandas as pd\n",
        "import matplotlib.pyplot as plt\n",
        "import seaborn as sns"
      ]
    },
    {
      "cell_type": "markdown",
      "source": [
        "#phase 1"
      ],
      "metadata": {
        "id": "pYaSlZ8NpIs3"
      }
    },
    {
      "cell_type": "markdown",
      "source": [
        "#load Dataset"
      ],
      "metadata": {
        "id": "C70heKftpKjn"
      }
    },
    {
      "cell_type": "code",
      "source": [
        "df=pd.read_csv(\"/content/Zomato Dataset.csv\")\n"
      ],
      "metadata": {
        "id": "ZvrG2LGgpMtO"
      },
      "execution_count": 6,
      "outputs": []
    },
    {
      "cell_type": "markdown",
      "source": [
        "#preview of the first few rows"
      ],
      "metadata": {
        "id": "iBw39l28pdxi"
      }
    },
    {
      "cell_type": "code",
      "source": [
        "df.head()"
      ],
      "metadata": {
        "colab": {
          "base_uri": "https://localhost:8080/",
          "height": 243
        },
        "id": "nSDXsBh3pinq",
        "outputId": "454d5b5b-e1f5-4b36-c771-f75903c72911"
      },
      "execution_count": 7,
      "outputs": [
        {
          "output_type": "execute_result",
          "data": {
            "text/plain": [
              "       ID Delivery_person_ID  Delivery_person_Age  Delivery_person_Ratings  \\\n",
              "0  0xcdcd      DEHRES17DEL01                 36.0                      4.2   \n",
              "1  0xd987      KOCRES16DEL01                 21.0                      4.7   \n",
              "2  0x2784     PUNERES13DEL03                 23.0                      4.7   \n",
              "3  0xc8b6     LUDHRES15DEL02                 34.0                      4.3   \n",
              "4  0xdb64      KNPRES14DEL02                 24.0                      4.7   \n",
              "\n",
              "   Restaurant_latitude  Restaurant_longitude  Delivery_location_latitude  \\\n",
              "0            30.327968             78.046106                   30.397968   \n",
              "1            10.003064             76.307589                   10.043064   \n",
              "2            18.562450             73.916619                   18.652450   \n",
              "3            30.899584             75.809346                   30.919584   \n",
              "4            26.463504             80.372929                   26.593504   \n",
              "\n",
              "   Delivery_location_longitude  Order_Date Time_Orderd Time_Order_picked  \\\n",
              "0                    78.116106  12-02-2022       21:55             22:10   \n",
              "1                    76.347589  13-02-2022       14:55             15:05   \n",
              "2                    74.006619  04-03-2022       17:30             17:40   \n",
              "3                    75.829346  13-02-2022       09:20             09:30   \n",
              "4                    80.502929  14-02-2022       19:50             20:05   \n",
              "\n",
              "  Weather_conditions Road_traffic_density  Vehicle_condition Type_of_order  \\\n",
              "0                Fog                  Jam                  2         Snack   \n",
              "1             Stormy                 High                  1          Meal   \n",
              "2         Sandstorms               Medium                  1        Drinks   \n",
              "3         Sandstorms                  Low                  0        Buffet   \n",
              "4                Fog                  Jam                  1         Snack   \n",
              "\n",
              "  Type_of_vehicle  multiple_deliveries Festival           City  \\\n",
              "0      motorcycle                  3.0       No  Metropolitian   \n",
              "1      motorcycle                  1.0       No  Metropolitian   \n",
              "2         scooter                  1.0       No  Metropolitian   \n",
              "3      motorcycle                  0.0       No  Metropolitian   \n",
              "4         scooter                  1.0       No  Metropolitian   \n",
              "\n",
              "   Time_taken (min)  \n",
              "0                46  \n",
              "1                23  \n",
              "2                21  \n",
              "3                20  \n",
              "4                41  "
            ],
            "text/html": [
              "\n",
              "  <div id=\"df-c1b00bbc-5470-4714-ae0e-a2d1112ce68b\" class=\"colab-df-container\">\n",
              "    <div>\n",
              "<style scoped>\n",
              "    .dataframe tbody tr th:only-of-type {\n",
              "        vertical-align: middle;\n",
              "    }\n",
              "\n",
              "    .dataframe tbody tr th {\n",
              "        vertical-align: top;\n",
              "    }\n",
              "\n",
              "    .dataframe thead th {\n",
              "        text-align: right;\n",
              "    }\n",
              "</style>\n",
              "<table border=\"1\" class=\"dataframe\">\n",
              "  <thead>\n",
              "    <tr style=\"text-align: right;\">\n",
              "      <th></th>\n",
              "      <th>ID</th>\n",
              "      <th>Delivery_person_ID</th>\n",
              "      <th>Delivery_person_Age</th>\n",
              "      <th>Delivery_person_Ratings</th>\n",
              "      <th>Restaurant_latitude</th>\n",
              "      <th>Restaurant_longitude</th>\n",
              "      <th>Delivery_location_latitude</th>\n",
              "      <th>Delivery_location_longitude</th>\n",
              "      <th>Order_Date</th>\n",
              "      <th>Time_Orderd</th>\n",
              "      <th>Time_Order_picked</th>\n",
              "      <th>Weather_conditions</th>\n",
              "      <th>Road_traffic_density</th>\n",
              "      <th>Vehicle_condition</th>\n",
              "      <th>Type_of_order</th>\n",
              "      <th>Type_of_vehicle</th>\n",
              "      <th>multiple_deliveries</th>\n",
              "      <th>Festival</th>\n",
              "      <th>City</th>\n",
              "      <th>Time_taken (min)</th>\n",
              "    </tr>\n",
              "  </thead>\n",
              "  <tbody>\n",
              "    <tr>\n",
              "      <th>0</th>\n",
              "      <td>0xcdcd</td>\n",
              "      <td>DEHRES17DEL01</td>\n",
              "      <td>36.0</td>\n",
              "      <td>4.2</td>\n",
              "      <td>30.327968</td>\n",
              "      <td>78.046106</td>\n",
              "      <td>30.397968</td>\n",
              "      <td>78.116106</td>\n",
              "      <td>12-02-2022</td>\n",
              "      <td>21:55</td>\n",
              "      <td>22:10</td>\n",
              "      <td>Fog</td>\n",
              "      <td>Jam</td>\n",
              "      <td>2</td>\n",
              "      <td>Snack</td>\n",
              "      <td>motorcycle</td>\n",
              "      <td>3.0</td>\n",
              "      <td>No</td>\n",
              "      <td>Metropolitian</td>\n",
              "      <td>46</td>\n",
              "    </tr>\n",
              "    <tr>\n",
              "      <th>1</th>\n",
              "      <td>0xd987</td>\n",
              "      <td>KOCRES16DEL01</td>\n",
              "      <td>21.0</td>\n",
              "      <td>4.7</td>\n",
              "      <td>10.003064</td>\n",
              "      <td>76.307589</td>\n",
              "      <td>10.043064</td>\n",
              "      <td>76.347589</td>\n",
              "      <td>13-02-2022</td>\n",
              "      <td>14:55</td>\n",
              "      <td>15:05</td>\n",
              "      <td>Stormy</td>\n",
              "      <td>High</td>\n",
              "      <td>1</td>\n",
              "      <td>Meal</td>\n",
              "      <td>motorcycle</td>\n",
              "      <td>1.0</td>\n",
              "      <td>No</td>\n",
              "      <td>Metropolitian</td>\n",
              "      <td>23</td>\n",
              "    </tr>\n",
              "    <tr>\n",
              "      <th>2</th>\n",
              "      <td>0x2784</td>\n",
              "      <td>PUNERES13DEL03</td>\n",
              "      <td>23.0</td>\n",
              "      <td>4.7</td>\n",
              "      <td>18.562450</td>\n",
              "      <td>73.916619</td>\n",
              "      <td>18.652450</td>\n",
              "      <td>74.006619</td>\n",
              "      <td>04-03-2022</td>\n",
              "      <td>17:30</td>\n",
              "      <td>17:40</td>\n",
              "      <td>Sandstorms</td>\n",
              "      <td>Medium</td>\n",
              "      <td>1</td>\n",
              "      <td>Drinks</td>\n",
              "      <td>scooter</td>\n",
              "      <td>1.0</td>\n",
              "      <td>No</td>\n",
              "      <td>Metropolitian</td>\n",
              "      <td>21</td>\n",
              "    </tr>\n",
              "    <tr>\n",
              "      <th>3</th>\n",
              "      <td>0xc8b6</td>\n",
              "      <td>LUDHRES15DEL02</td>\n",
              "      <td>34.0</td>\n",
              "      <td>4.3</td>\n",
              "      <td>30.899584</td>\n",
              "      <td>75.809346</td>\n",
              "      <td>30.919584</td>\n",
              "      <td>75.829346</td>\n",
              "      <td>13-02-2022</td>\n",
              "      <td>09:20</td>\n",
              "      <td>09:30</td>\n",
              "      <td>Sandstorms</td>\n",
              "      <td>Low</td>\n",
              "      <td>0</td>\n",
              "      <td>Buffet</td>\n",
              "      <td>motorcycle</td>\n",
              "      <td>0.0</td>\n",
              "      <td>No</td>\n",
              "      <td>Metropolitian</td>\n",
              "      <td>20</td>\n",
              "    </tr>\n",
              "    <tr>\n",
              "      <th>4</th>\n",
              "      <td>0xdb64</td>\n",
              "      <td>KNPRES14DEL02</td>\n",
              "      <td>24.0</td>\n",
              "      <td>4.7</td>\n",
              "      <td>26.463504</td>\n",
              "      <td>80.372929</td>\n",
              "      <td>26.593504</td>\n",
              "      <td>80.502929</td>\n",
              "      <td>14-02-2022</td>\n",
              "      <td>19:50</td>\n",
              "      <td>20:05</td>\n",
              "      <td>Fog</td>\n",
              "      <td>Jam</td>\n",
              "      <td>1</td>\n",
              "      <td>Snack</td>\n",
              "      <td>scooter</td>\n",
              "      <td>1.0</td>\n",
              "      <td>No</td>\n",
              "      <td>Metropolitian</td>\n",
              "      <td>41</td>\n",
              "    </tr>\n",
              "  </tbody>\n",
              "</table>\n",
              "</div>\n",
              "    <div class=\"colab-df-buttons\">\n",
              "\n",
              "  <div class=\"colab-df-container\">\n",
              "    <button class=\"colab-df-convert\" onclick=\"convertToInteractive('df-c1b00bbc-5470-4714-ae0e-a2d1112ce68b')\"\n",
              "            title=\"Convert this dataframe to an interactive table.\"\n",
              "            style=\"display:none;\">\n",
              "\n",
              "  <svg xmlns=\"http://www.w3.org/2000/svg\" height=\"24px\" viewBox=\"0 -960 960 960\">\n",
              "    <path d=\"M120-120v-720h720v720H120Zm60-500h600v-160H180v160Zm220 220h160v-160H400v160Zm0 220h160v-160H400v160ZM180-400h160v-160H180v160Zm440 0h160v-160H620v160ZM180-180h160v-160H180v160Zm440 0h160v-160H620v160Z\"/>\n",
              "  </svg>\n",
              "    </button>\n",
              "\n",
              "  <style>\n",
              "    .colab-df-container {\n",
              "      display:flex;\n",
              "      gap: 12px;\n",
              "    }\n",
              "\n",
              "    .colab-df-convert {\n",
              "      background-color: #E8F0FE;\n",
              "      border: none;\n",
              "      border-radius: 50%;\n",
              "      cursor: pointer;\n",
              "      display: none;\n",
              "      fill: #1967D2;\n",
              "      height: 32px;\n",
              "      padding: 0 0 0 0;\n",
              "      width: 32px;\n",
              "    }\n",
              "\n",
              "    .colab-df-convert:hover {\n",
              "      background-color: #E2EBFA;\n",
              "      box-shadow: 0px 1px 2px rgba(60, 64, 67, 0.3), 0px 1px 3px 1px rgba(60, 64, 67, 0.15);\n",
              "      fill: #174EA6;\n",
              "    }\n",
              "\n",
              "    .colab-df-buttons div {\n",
              "      margin-bottom: 4px;\n",
              "    }\n",
              "\n",
              "    [theme=dark] .colab-df-convert {\n",
              "      background-color: #3B4455;\n",
              "      fill: #D2E3FC;\n",
              "    }\n",
              "\n",
              "    [theme=dark] .colab-df-convert:hover {\n",
              "      background-color: #434B5C;\n",
              "      box-shadow: 0px 1px 3px 1px rgba(0, 0, 0, 0.15);\n",
              "      filter: drop-shadow(0px 1px 2px rgba(0, 0, 0, 0.3));\n",
              "      fill: #FFFFFF;\n",
              "    }\n",
              "  </style>\n",
              "\n",
              "    <script>\n",
              "      const buttonEl =\n",
              "        document.querySelector('#df-c1b00bbc-5470-4714-ae0e-a2d1112ce68b button.colab-df-convert');\n",
              "      buttonEl.style.display =\n",
              "        google.colab.kernel.accessAllowed ? 'block' : 'none';\n",
              "\n",
              "      async function convertToInteractive(key) {\n",
              "        const element = document.querySelector('#df-c1b00bbc-5470-4714-ae0e-a2d1112ce68b');\n",
              "        const dataTable =\n",
              "          await google.colab.kernel.invokeFunction('convertToInteractive',\n",
              "                                                    [key], {});\n",
              "        if (!dataTable) return;\n",
              "\n",
              "        const docLinkHtml = 'Like what you see? Visit the ' +\n",
              "          '<a target=\"_blank\" href=https://colab.research.google.com/notebooks/data_table.ipynb>data table notebook</a>'\n",
              "          + ' to learn more about interactive tables.';\n",
              "        element.innerHTML = '';\n",
              "        dataTable['output_type'] = 'display_data';\n",
              "        await google.colab.output.renderOutput(dataTable, element);\n",
              "        const docLink = document.createElement('div');\n",
              "        docLink.innerHTML = docLinkHtml;\n",
              "        element.appendChild(docLink);\n",
              "      }\n",
              "    </script>\n",
              "  </div>\n",
              "\n",
              "\n",
              "    <div id=\"df-9b1e59dd-1ede-4946-96d7-46afc3e09f12\">\n",
              "      <button class=\"colab-df-quickchart\" onclick=\"quickchart('df-9b1e59dd-1ede-4946-96d7-46afc3e09f12')\"\n",
              "                title=\"Suggest charts\"\n",
              "                style=\"display:none;\">\n",
              "\n",
              "<svg xmlns=\"http://www.w3.org/2000/svg\" height=\"24px\"viewBox=\"0 0 24 24\"\n",
              "     width=\"24px\">\n",
              "    <g>\n",
              "        <path d=\"M19 3H5c-1.1 0-2 .9-2 2v14c0 1.1.9 2 2 2h14c1.1 0 2-.9 2-2V5c0-1.1-.9-2-2-2zM9 17H7v-7h2v7zm4 0h-2V7h2v10zm4 0h-2v-4h2v4z\"/>\n",
              "    </g>\n",
              "</svg>\n",
              "      </button>\n",
              "\n",
              "<style>\n",
              "  .colab-df-quickchart {\n",
              "      --bg-color: #E8F0FE;\n",
              "      --fill-color: #1967D2;\n",
              "      --hover-bg-color: #E2EBFA;\n",
              "      --hover-fill-color: #174EA6;\n",
              "      --disabled-fill-color: #AAA;\n",
              "      --disabled-bg-color: #DDD;\n",
              "  }\n",
              "\n",
              "  [theme=dark] .colab-df-quickchart {\n",
              "      --bg-color: #3B4455;\n",
              "      --fill-color: #D2E3FC;\n",
              "      --hover-bg-color: #434B5C;\n",
              "      --hover-fill-color: #FFFFFF;\n",
              "      --disabled-bg-color: #3B4455;\n",
              "      --disabled-fill-color: #666;\n",
              "  }\n",
              "\n",
              "  .colab-df-quickchart {\n",
              "    background-color: var(--bg-color);\n",
              "    border: none;\n",
              "    border-radius: 50%;\n",
              "    cursor: pointer;\n",
              "    display: none;\n",
              "    fill: var(--fill-color);\n",
              "    height: 32px;\n",
              "    padding: 0;\n",
              "    width: 32px;\n",
              "  }\n",
              "\n",
              "  .colab-df-quickchart:hover {\n",
              "    background-color: var(--hover-bg-color);\n",
              "    box-shadow: 0 1px 2px rgba(60, 64, 67, 0.3), 0 1px 3px 1px rgba(60, 64, 67, 0.15);\n",
              "    fill: var(--button-hover-fill-color);\n",
              "  }\n",
              "\n",
              "  .colab-df-quickchart-complete:disabled,\n",
              "  .colab-df-quickchart-complete:disabled:hover {\n",
              "    background-color: var(--disabled-bg-color);\n",
              "    fill: var(--disabled-fill-color);\n",
              "    box-shadow: none;\n",
              "  }\n",
              "\n",
              "  .colab-df-spinner {\n",
              "    border: 2px solid var(--fill-color);\n",
              "    border-color: transparent;\n",
              "    border-bottom-color: var(--fill-color);\n",
              "    animation:\n",
              "      spin 1s steps(1) infinite;\n",
              "  }\n",
              "\n",
              "  @keyframes spin {\n",
              "    0% {\n",
              "      border-color: transparent;\n",
              "      border-bottom-color: var(--fill-color);\n",
              "      border-left-color: var(--fill-color);\n",
              "    }\n",
              "    20% {\n",
              "      border-color: transparent;\n",
              "      border-left-color: var(--fill-color);\n",
              "      border-top-color: var(--fill-color);\n",
              "    }\n",
              "    30% {\n",
              "      border-color: transparent;\n",
              "      border-left-color: var(--fill-color);\n",
              "      border-top-color: var(--fill-color);\n",
              "      border-right-color: var(--fill-color);\n",
              "    }\n",
              "    40% {\n",
              "      border-color: transparent;\n",
              "      border-right-color: var(--fill-color);\n",
              "      border-top-color: var(--fill-color);\n",
              "    }\n",
              "    60% {\n",
              "      border-color: transparent;\n",
              "      border-right-color: var(--fill-color);\n",
              "    }\n",
              "    80% {\n",
              "      border-color: transparent;\n",
              "      border-right-color: var(--fill-color);\n",
              "      border-bottom-color: var(--fill-color);\n",
              "    }\n",
              "    90% {\n",
              "      border-color: transparent;\n",
              "      border-bottom-color: var(--fill-color);\n",
              "    }\n",
              "  }\n",
              "</style>\n",
              "\n",
              "      <script>\n",
              "        async function quickchart(key) {\n",
              "          const quickchartButtonEl =\n",
              "            document.querySelector('#' + key + ' button');\n",
              "          quickchartButtonEl.disabled = true;  // To prevent multiple clicks.\n",
              "          quickchartButtonEl.classList.add('colab-df-spinner');\n",
              "          try {\n",
              "            const charts = await google.colab.kernel.invokeFunction(\n",
              "                'suggestCharts', [key], {});\n",
              "          } catch (error) {\n",
              "            console.error('Error during call to suggestCharts:', error);\n",
              "          }\n",
              "          quickchartButtonEl.classList.remove('colab-df-spinner');\n",
              "          quickchartButtonEl.classList.add('colab-df-quickchart-complete');\n",
              "        }\n",
              "        (() => {\n",
              "          let quickchartButtonEl =\n",
              "            document.querySelector('#df-9b1e59dd-1ede-4946-96d7-46afc3e09f12 button');\n",
              "          quickchartButtonEl.style.display =\n",
              "            google.colab.kernel.accessAllowed ? 'block' : 'none';\n",
              "        })();\n",
              "      </script>\n",
              "    </div>\n",
              "\n",
              "    </div>\n",
              "  </div>\n"
            ],
            "application/vnd.google.colaboratory.intrinsic+json": {
              "type": "dataframe",
              "variable_name": "df",
              "summary": "{\n  \"name\": \"df\",\n  \"rows\": 45584,\n  \"fields\": [\n    {\n      \"column\": \"ID\",\n      \"properties\": {\n        \"dtype\": \"string\",\n        \"num_unique_values\": 45584,\n        \"samples\": [\n          \"0xcfcd\",\n          \"0x4f03\",\n          \"0xc48b\"\n        ],\n        \"semantic_type\": \"\",\n        \"description\": \"\"\n      }\n    },\n    {\n      \"column\": \"Delivery_person_ID\",\n      \"properties\": {\n        \"dtype\": \"category\",\n        \"num_unique_values\": 1320,\n        \"samples\": [\n          \"LUDHRES02DEL03\",\n          \"VADRES02DEL01\",\n          \"INDORES13DEL01\"\n        ],\n        \"semantic_type\": \"\",\n        \"description\": \"\"\n      }\n    },\n    {\n      \"column\": \"Delivery_person_Age\",\n      \"properties\": {\n        \"dtype\": \"number\",\n        \"std\": 5.815063854587488,\n        \"min\": 15.0,\n        \"max\": 50.0,\n        \"num_unique_values\": 22,\n        \"samples\": [\n          36.0,\n          26.0,\n          25.0\n        ],\n        \"semantic_type\": \"\",\n        \"description\": \"\"\n      }\n    },\n    {\n      \"column\": \"Delivery_person_Ratings\",\n      \"properties\": {\n        \"dtype\": \"number\",\n        \"std\": 0.3347437201745157,\n        \"min\": 1.0,\n        \"max\": 6.0,\n        \"num_unique_values\": 28,\n        \"samples\": [\n          3.5,\n          2.8,\n          4.8\n        ],\n        \"semantic_type\": \"\",\n        \"description\": \"\"\n      }\n    },\n    {\n      \"column\": \"Restaurant_latitude\",\n      \"properties\": {\n        \"dtype\": \"number\",\n        \"std\": 8.185673779879592,\n        \"min\": -30.905562,\n        \"max\": 30.914057,\n        \"num_unique_values\": 657,\n        \"samples\": [\n          -17.426228,\n          12.981615,\n          17.431668\n        ],\n        \"semantic_type\": \"\",\n        \"description\": \"\"\n      }\n    },\n    {\n      \"column\": \"Restaurant_longitude\",\n      \"properties\": {\n        \"dtype\": \"number\",\n        \"std\": 22.8855748639992,\n        \"min\": -88.366217,\n        \"max\": 88.433452,\n        \"num_unique_values\": 518,\n        \"samples\": [\n          -73.804855,\n          88.433187,\n          76.654878\n        ],\n        \"semantic_type\": \"\",\n        \"description\": \"\"\n      }\n    },\n    {\n      \"column\": \"Delivery_location_latitude\",\n      \"properties\": {\n        \"dtype\": \"number\",\n        \"std\": 7.335561662334285,\n        \"min\": 0.01,\n        \"max\": 31.054057,\n        \"num_unique_values\": 4373,\n        \"samples\": [\n          27.29185,\n          18.583811,\n          11.076686\n        ],\n        \"semantic_type\": \"\",\n        \"description\": \"\"\n      }\n    },\n    {\n      \"column\": \"Delivery_location_longitude\",\n      \"properties\": {\n        \"dtype\": \"number\",\n        \"std\": 21.12057827510338,\n        \"min\": 0.01,\n        \"max\": 88.563452,\n        \"num_unique_values\": 4373,\n        \"samples\": [\n          78.170165,\n          73.949315,\n          77.021736\n        ],\n        \"semantic_type\": \"\",\n        \"description\": \"\"\n      }\n    },\n    {\n      \"column\": \"Order_Date\",\n      \"properties\": {\n        \"dtype\": \"category\",\n        \"num_unique_values\": 44,\n        \"samples\": [\n          \"16-02-2022\",\n          \"06-04-2022\",\n          \"04-04-2022\"\n        ],\n        \"semantic_type\": \"\",\n        \"description\": \"\"\n      }\n    },\n    {\n      \"column\": \"Time_Orderd\",\n      \"properties\": {\n        \"dtype\": \"category\",\n        \"num_unique_values\": 176,\n        \"samples\": [\n          \"22:35\",\n          \"22:25\",\n          \"17:40\"\n        ],\n        \"semantic_type\": \"\",\n        \"description\": \"\"\n      }\n    },\n    {\n      \"column\": \"Time_Order_picked\",\n      \"properties\": {\n        \"dtype\": \"category\",\n        \"num_unique_values\": 193,\n        \"samples\": [\n          \"09:40\",\n          \"11:05\",\n          \"10:40\"\n        ],\n        \"semantic_type\": \"\",\n        \"description\": \"\"\n      }\n    },\n    {\n      \"column\": \"Weather_conditions\",\n      \"properties\": {\n        \"dtype\": \"category\",\n        \"num_unique_values\": 6,\n        \"samples\": [\n          \"Fog\",\n          \"Stormy\",\n          \"Sunny\"\n        ],\n        \"semantic_type\": \"\",\n        \"description\": \"\"\n      }\n    },\n    {\n      \"column\": \"Road_traffic_density\",\n      \"properties\": {\n        \"dtype\": \"category\",\n        \"num_unique_values\": 4,\n        \"samples\": [\n          \"High\",\n          \"Low\",\n          \"Jam\"\n        ],\n        \"semantic_type\": \"\",\n        \"description\": \"\"\n      }\n    },\n    {\n      \"column\": \"Vehicle_condition\",\n      \"properties\": {\n        \"dtype\": \"number\",\n        \"std\": 0,\n        \"min\": 0,\n        \"max\": 3,\n        \"num_unique_values\": 4,\n        \"samples\": [\n          1,\n          3,\n          2\n        ],\n        \"semantic_type\": \"\",\n        \"description\": \"\"\n      }\n    },\n    {\n      \"column\": \"Type_of_order\",\n      \"properties\": {\n        \"dtype\": \"category\",\n        \"num_unique_values\": 4,\n        \"samples\": [\n          \"Meal\",\n          \"Buffet\",\n          \"Snack\"\n        ],\n        \"semantic_type\": \"\",\n        \"description\": \"\"\n      }\n    },\n    {\n      \"column\": \"Type_of_vehicle\",\n      \"properties\": {\n        \"dtype\": \"category\",\n        \"num_unique_values\": 4,\n        \"samples\": [\n          \"scooter\",\n          \"bicycle\",\n          \"motorcycle\"\n        ],\n        \"semantic_type\": \"\",\n        \"description\": \"\"\n      }\n    },\n    {\n      \"column\": \"multiple_deliveries\",\n      \"properties\": {\n        \"dtype\": \"number\",\n        \"std\": 0.5725098447367195,\n        \"min\": 0.0,\n        \"max\": 3.0,\n        \"num_unique_values\": 4,\n        \"samples\": [\n          1.0,\n          2.0,\n          3.0\n        ],\n        \"semantic_type\": \"\",\n        \"description\": \"\"\n      }\n    },\n    {\n      \"column\": \"Festival\",\n      \"properties\": {\n        \"dtype\": \"category\",\n        \"num_unique_values\": 2,\n        \"samples\": [\n          \"Yes\",\n          \"No\"\n        ],\n        \"semantic_type\": \"\",\n        \"description\": \"\"\n      }\n    },\n    {\n      \"column\": \"City\",\n      \"properties\": {\n        \"dtype\": \"category\",\n        \"num_unique_values\": 3,\n        \"samples\": [\n          \"Metropolitian\",\n          \"Urban\"\n        ],\n        \"semantic_type\": \"\",\n        \"description\": \"\"\n      }\n    },\n    {\n      \"column\": \"Time_taken (min)\",\n      \"properties\": {\n        \"dtype\": \"number\",\n        \"std\": 9,\n        \"min\": 10,\n        \"max\": 54,\n        \"num_unique_values\": 45,\n        \"samples\": [\n          48,\n          16\n        ],\n        \"semantic_type\": \"\",\n        \"description\": \"\"\n      }\n    }\n  ]\n}"
            }
          },
          "metadata": {},
          "execution_count": 7
        }
      ]
    },
    {
      "cell_type": "markdown",
      "source": [
        "#understanding the structure of Dataset"
      ],
      "metadata": {
        "id": "yGlC9Dcwpkb-"
      }
    },
    {
      "cell_type": "code",
      "source": [
        "print(\"Shape:\", df.shape)\n"
      ],
      "metadata": {
        "colab": {
          "base_uri": "https://localhost:8080/"
        },
        "id": "kMvabmqCppbW",
        "outputId": "da429f51-eacb-4cfe-cd5d-4722c81f7597"
      },
      "execution_count": 7,
      "outputs": [
        {
          "output_type": "stream",
          "name": "stdout",
          "text": [
            "Shape: (45584, 20)\n"
          ]
        }
      ]
    },
    {
      "cell_type": "markdown",
      "source": [
        "# Dataset Structure and its DataTypes"
      ],
      "metadata": {
        "id": "C1k5ihVbpxO7"
      }
    },
    {
      "cell_type": "code",
      "source": [
        "df.info()"
      ],
      "metadata": {
        "colab": {
          "base_uri": "https://localhost:8080/"
        },
        "id": "YsGhpyxCpzes",
        "outputId": "f9d4ca04-d0fa-4d7b-c1ab-547e4c01b541"
      },
      "execution_count": 6,
      "outputs": [
        {
          "output_type": "stream",
          "name": "stdout",
          "text": [
            "<class 'pandas.core.frame.DataFrame'>\n",
            "RangeIndex: 45584 entries, 0 to 45583\n",
            "Data columns (total 20 columns):\n",
            " #   Column                       Non-Null Count  Dtype  \n",
            "---  ------                       --------------  -----  \n",
            " 0   ID                           45584 non-null  object \n",
            " 1   Delivery_person_ID           45584 non-null  object \n",
            " 2   Delivery_person_Age          43730 non-null  float64\n",
            " 3   Delivery_person_Ratings      43676 non-null  float64\n",
            " 4   Restaurant_latitude          45584 non-null  float64\n",
            " 5   Restaurant_longitude         45584 non-null  float64\n",
            " 6   Delivery_location_latitude   45584 non-null  float64\n",
            " 7   Delivery_location_longitude  45584 non-null  float64\n",
            " 8   Order_Date                   45584 non-null  object \n",
            " 9   Time_Orderd                  43853 non-null  object \n",
            " 10  Time_Order_picked            45584 non-null  object \n",
            " 11  Weather_conditions           44968 non-null  object \n",
            " 12  Road_traffic_density         44983 non-null  object \n",
            " 13  Vehicle_condition            45584 non-null  int64  \n",
            " 14  Type_of_order                45584 non-null  object \n",
            " 15  Type_of_vehicle              45584 non-null  object \n",
            " 16  multiple_deliveries          44591 non-null  float64\n",
            " 17  Festival                     45356 non-null  object \n",
            " 18  City                         44384 non-null  object \n",
            " 19  Time_taken (min)             45584 non-null  int64  \n",
            "dtypes: float64(7), int64(2), object(11)\n",
            "memory usage: 7.0+ MB\n"
          ]
        }
      ]
    },
    {
      "cell_type": "markdown",
      "source": [
        "#TO Know the overview of summary statistics"
      ],
      "metadata": {
        "id": "j_gLOHijqV9U"
      }
    },
    {
      "cell_type": "code",
      "source": [
        "print(df.describe())\n"
      ],
      "metadata": {
        "colab": {
          "base_uri": "https://localhost:8080/"
        },
        "id": "CXlYSuc2qcEj",
        "outputId": "3a82e932-f331-4f2c-8e7e-7141eb20b3bf"
      },
      "execution_count": 9,
      "outputs": [
        {
          "output_type": "stream",
          "name": "stdout",
          "text": [
            "       Delivery_person_Age  Delivery_person_Ratings  Restaurant_latitude  \\\n",
            "count         43730.000000             43676.000000         45584.000000   \n",
            "mean             29.566911                 4.633774            17.017948   \n",
            "std               5.815064                 0.334744             8.185674   \n",
            "min              15.000000                 1.000000           -30.905562   \n",
            "25%              25.000000                 4.500000            12.933284   \n",
            "50%              30.000000                 4.700000            18.551440   \n",
            "75%              35.000000                 4.900000            22.728163   \n",
            "max              50.000000                 6.000000            30.914057   \n",
            "\n",
            "       Restaurant_longitude  Delivery_location_latitude  \\\n",
            "count          45584.000000                45584.000000   \n",
            "mean              70.229684                   17.465480   \n",
            "std               22.885575                    7.335562   \n",
            "min              -88.366217                    0.010000   \n",
            "25%               73.170000                   12.988453   \n",
            "50%               75.897963                   18.633934   \n",
            "75%               78.044095                   22.785049   \n",
            "max               88.433452                   31.054057   \n",
            "\n",
            "       Delivery_location_longitude  Vehicle_condition  multiple_deliveries  \\\n",
            "count                 45584.000000       45584.000000         44591.000000   \n",
            "mean                     70.844161           1.023385             0.744635   \n",
            "std                      21.120578           0.839055             0.572510   \n",
            "min                       0.010000           0.000000             0.000000   \n",
            "25%                      73.280000           0.000000             0.000000   \n",
            "50%                      76.002574           1.000000             1.000000   \n",
            "75%                      78.107044           2.000000             1.000000   \n",
            "max                      88.563452           3.000000             3.000000   \n",
            "\n",
            "       Time_taken (min)  \n",
            "count      45584.000000  \n",
            "mean          26.293963  \n",
            "std            9.384298  \n",
            "min           10.000000  \n",
            "25%           19.000000  \n",
            "50%           26.000000  \n",
            "75%           32.000000  \n",
            "max           54.000000  \n"
          ]
        }
      ]
    },
    {
      "cell_type": "markdown",
      "source": [
        "#To know th columns"
      ],
      "metadata": {
        "id": "GEaTQEp4r9Uf"
      }
    },
    {
      "cell_type": "code",
      "source": [
        "print(df.columns)"
      ],
      "metadata": {
        "colab": {
          "base_uri": "https://localhost:8080/"
        },
        "id": "aXByi-gLsAbW",
        "outputId": "693e2e69-badd-4ff0-e2c3-77519da7ad53"
      },
      "execution_count": 10,
      "outputs": [
        {
          "output_type": "stream",
          "name": "stdout",
          "text": [
            "Index(['ID', 'Delivery_person_ID', 'Delivery_person_Age',\n",
            "       'Delivery_person_Ratings', 'Restaurant_latitude',\n",
            "       'Restaurant_longitude', 'Delivery_location_latitude',\n",
            "       'Delivery_location_longitude', 'Order_Date', 'Time_Orderd',\n",
            "       'Time_Order_picked', 'Weather_conditions', 'Road_traffic_density',\n",
            "       'Vehicle_condition', 'Type_of_order', 'Type_of_vehicle',\n",
            "       'multiple_deliveries', 'Festival', 'City', 'Time_taken (min)'],\n",
            "      dtype='object')\n"
          ]
        }
      ]
    },
    {
      "cell_type": "markdown",
      "source": [
        "#DATA CLEANING and DATA MANIPULATION"
      ],
      "metadata": {
        "id": "VHoFJAXbsHMu"
      }
    },
    {
      "cell_type": "markdown",
      "source": [
        "checking null values count"
      ],
      "metadata": {
        "id": "zG4kxnWOsbGs"
      }
    },
    {
      "cell_type": "code",
      "source": [
        "print('\\nMissing values per column:')\n",
        "df.isnull().sum()"
      ],
      "metadata": {
        "colab": {
          "base_uri": "https://localhost:8080/",
          "height": 808
        },
        "id": "MnlWj6WYseKe",
        "outputId": "72b28d1f-b65c-4a1f-d252-b88b992a3eb1"
      },
      "execution_count": 29,
      "outputs": [
        {
          "output_type": "stream",
          "name": "stdout",
          "text": [
            "\n",
            "Missing values per column:\n"
          ]
        },
        {
          "output_type": "execute_result",
          "data": {
            "text/plain": [
              "ID                                0\n",
              "Delivery_person_ID                0\n",
              "Delivery_person_Age            1854\n",
              "Delivery_person_Ratings        1908\n",
              "Restaurant_latitude               0\n",
              "Restaurant_longitude              0\n",
              "Delivery_location_latitude        0\n",
              "Delivery_location_longitude       0\n",
              "Order_Date                        0\n",
              "Time_Orderd                    1731\n",
              "Time_Order_picked                 0\n",
              "Weather_conditions              616\n",
              "Road_traffic_density            601\n",
              "Vehicle_condition                 0\n",
              "Type_of_order                     0\n",
              "Type_of_vehicle                   0\n",
              "multiple_deliveries             993\n",
              "Festival                        228\n",
              "City                           1200\n",
              "Time_taken (min)                  0\n",
              "Distance_km                       0\n",
              "Age_Group                      1892\n",
              "dtype: int64"
            ],
            "text/html": [
              "<div>\n",
              "<style scoped>\n",
              "    .dataframe tbody tr th:only-of-type {\n",
              "        vertical-align: middle;\n",
              "    }\n",
              "\n",
              "    .dataframe tbody tr th {\n",
              "        vertical-align: top;\n",
              "    }\n",
              "\n",
              "    .dataframe thead th {\n",
              "        text-align: right;\n",
              "    }\n",
              "</style>\n",
              "<table border=\"1\" class=\"dataframe\">\n",
              "  <thead>\n",
              "    <tr style=\"text-align: right;\">\n",
              "      <th></th>\n",
              "      <th>0</th>\n",
              "    </tr>\n",
              "  </thead>\n",
              "  <tbody>\n",
              "    <tr>\n",
              "      <th>ID</th>\n",
              "      <td>0</td>\n",
              "    </tr>\n",
              "    <tr>\n",
              "      <th>Delivery_person_ID</th>\n",
              "      <td>0</td>\n",
              "    </tr>\n",
              "    <tr>\n",
              "      <th>Delivery_person_Age</th>\n",
              "      <td>1854</td>\n",
              "    </tr>\n",
              "    <tr>\n",
              "      <th>Delivery_person_Ratings</th>\n",
              "      <td>1908</td>\n",
              "    </tr>\n",
              "    <tr>\n",
              "      <th>Restaurant_latitude</th>\n",
              "      <td>0</td>\n",
              "    </tr>\n",
              "    <tr>\n",
              "      <th>Restaurant_longitude</th>\n",
              "      <td>0</td>\n",
              "    </tr>\n",
              "    <tr>\n",
              "      <th>Delivery_location_latitude</th>\n",
              "      <td>0</td>\n",
              "    </tr>\n",
              "    <tr>\n",
              "      <th>Delivery_location_longitude</th>\n",
              "      <td>0</td>\n",
              "    </tr>\n",
              "    <tr>\n",
              "      <th>Order_Date</th>\n",
              "      <td>0</td>\n",
              "    </tr>\n",
              "    <tr>\n",
              "      <th>Time_Orderd</th>\n",
              "      <td>1731</td>\n",
              "    </tr>\n",
              "    <tr>\n",
              "      <th>Time_Order_picked</th>\n",
              "      <td>0</td>\n",
              "    </tr>\n",
              "    <tr>\n",
              "      <th>Weather_conditions</th>\n",
              "      <td>616</td>\n",
              "    </tr>\n",
              "    <tr>\n",
              "      <th>Road_traffic_density</th>\n",
              "      <td>601</td>\n",
              "    </tr>\n",
              "    <tr>\n",
              "      <th>Vehicle_condition</th>\n",
              "      <td>0</td>\n",
              "    </tr>\n",
              "    <tr>\n",
              "      <th>Type_of_order</th>\n",
              "      <td>0</td>\n",
              "    </tr>\n",
              "    <tr>\n",
              "      <th>Type_of_vehicle</th>\n",
              "      <td>0</td>\n",
              "    </tr>\n",
              "    <tr>\n",
              "      <th>multiple_deliveries</th>\n",
              "      <td>993</td>\n",
              "    </tr>\n",
              "    <tr>\n",
              "      <th>Festival</th>\n",
              "      <td>228</td>\n",
              "    </tr>\n",
              "    <tr>\n",
              "      <th>City</th>\n",
              "      <td>1200</td>\n",
              "    </tr>\n",
              "    <tr>\n",
              "      <th>Time_taken (min)</th>\n",
              "      <td>0</td>\n",
              "    </tr>\n",
              "    <tr>\n",
              "      <th>Distance_km</th>\n",
              "      <td>0</td>\n",
              "    </tr>\n",
              "    <tr>\n",
              "      <th>Age_Group</th>\n",
              "      <td>1892</td>\n",
              "    </tr>\n",
              "  </tbody>\n",
              "</table>\n",
              "</div><br><label><b>dtype:</b> int64</label>"
            ]
          },
          "metadata": {},
          "execution_count": 29
        }
      ]
    },
    {
      "cell_type": "markdown",
      "source": [
        "#filling age with mean value"
      ],
      "metadata": {
        "id": "Z9dx7VH7sqg_"
      }
    },
    {
      "cell_type": "code",
      "source": [
        "print(df['Delivery_person_Age'].fillna(df['Delivery_person_Age'].mean(),inplace=True))"
      ],
      "metadata": {
        "colab": {
          "base_uri": "https://localhost:8080/"
        },
        "id": "jMDQSwd-sKYK",
        "outputId": "a25f6715-1406-4647-f21b-67cad1f6d509"
      },
      "execution_count": 13,
      "outputs": [
        {
          "output_type": "stream",
          "name": "stdout",
          "text": [
            "None\n"
          ]
        },
        {
          "output_type": "stream",
          "name": "stderr",
          "text": [
            "/tmp/ipython-input-2501156101.py:1: FutureWarning: A value is trying to be set on a copy of a DataFrame or Series through chained assignment using an inplace method.\n",
            "The behavior will change in pandas 3.0. This inplace method will never work because the intermediate object on which we are setting values always behaves as a copy.\n",
            "\n",
            "For example, when doing 'df[col].method(value, inplace=True)', try using 'df.method({col: value}, inplace=True)' or df[col] = df[col].method(value) instead, to perform the operation inplace on the original object.\n",
            "\n",
            "\n",
            "  print(df['Delivery_person_Age'].fillna(df['Delivery_person_Age'].mean(),inplace=True))\n"
          ]
        }
      ]
    },
    {
      "cell_type": "markdown",
      "source": [
        "#filling ratings with median"
      ],
      "metadata": {
        "id": "3fWfbaIZtNkt"
      }
    },
    {
      "cell_type": "code",
      "source": [
        "print(df['Delivery_person_Ratings'].fillna(df['Delivery_person_Ratings'].median(),inplace=True))"
      ],
      "metadata": {
        "colab": {
          "base_uri": "https://localhost:8080/"
        },
        "id": "F0GeNRPStQAT",
        "outputId": "6f7fd3e7-ce01-4485-d7ac-351a577aa4bd"
      },
      "execution_count": 39,
      "outputs": [
        {
          "output_type": "stream",
          "name": "stdout",
          "text": [
            "None\n"
          ]
        },
        {
          "output_type": "stream",
          "name": "stderr",
          "text": [
            "/tmp/ipython-input-1254883341.py:1: FutureWarning: A value is trying to be set on a copy of a DataFrame or Series through chained assignment using an inplace method.\n",
            "The behavior will change in pandas 3.0. This inplace method will never work because the intermediate object on which we are setting values always behaves as a copy.\n",
            "\n",
            "For example, when doing 'df[col].method(value, inplace=True)', try using 'df.method({col: value}, inplace=True)' or df[col] = df[col].method(value) instead, to perform the operation inplace on the original object.\n",
            "\n",
            "\n",
            "  print(df['Delivery_person_Ratings'].fillna(df['Delivery_person_Ratings'].median(),inplace=True))\n"
          ]
        }
      ]
    },
    {
      "cell_type": "markdown",
      "source": [
        "#filling weather with mode"
      ],
      "metadata": {
        "id": "q9jAYka5vcHe"
      }
    },
    {
      "cell_type": "code",
      "source": [
        "df['Weather_conditions'].fillna(df['Weather_conditions'].mode()[0],inplace=True)"
      ],
      "metadata": {
        "colab": {
          "base_uri": "https://localhost:8080/"
        },
        "id": "NK6xbpUEve2T",
        "outputId": "6c23a4c7-e7a2-458b-d942-484d524a1d4f"
      },
      "execution_count": 25,
      "outputs": [
        {
          "output_type": "stream",
          "name": "stderr",
          "text": [
            "/tmp/ipython-input-4071537630.py:1: FutureWarning: A value is trying to be set on a copy of a DataFrame or Series through chained assignment using an inplace method.\n",
            "The behavior will change in pandas 3.0. This inplace method will never work because the intermediate object on which we are setting values always behaves as a copy.\n",
            "\n",
            "For example, when doing 'df[col].method(value, inplace=True)', try using 'df.method({col: value}, inplace=True)' or df[col] = df[col].method(value) instead, to perform the operation inplace on the original object.\n",
            "\n",
            "\n",
            "  df['Weather_conditions'].fillna(df['Weather_conditions'].mode()[0],inplace=True)\n"
          ]
        }
      ]
    },
    {
      "cell_type": "markdown",
      "source": [
        "#filling road traffic density with mode"
      ],
      "metadata": {
        "id": "oh-Pd20Pvz4V"
      }
    },
    {
      "cell_type": "code",
      "source": [
        "print(df['Road_traffic_density'].fillna(df['Road_traffic_density'].mode()[0],inplace=True))"
      ],
      "metadata": {
        "colab": {
          "base_uri": "https://localhost:8080/"
        },
        "id": "Jvnl9C33v2wL",
        "outputId": "ee0f459e-4c7a-4b07-d3dd-0b8710dc9bb3"
      },
      "execution_count": 28,
      "outputs": [
        {
          "output_type": "stream",
          "name": "stdout",
          "text": [
            "None\n"
          ]
        }
      ]
    },
    {
      "cell_type": "code",
      "source": [
        "print(df['multiple_deliveries'].fillna(df['multiple_deliveries'].mode()[0],inplace=True))"
      ],
      "metadata": {
        "colab": {
          "base_uri": "https://localhost:8080/"
        },
        "id": "Hm65UuocwOe1",
        "outputId": "eb80579e-b8a6-4a15-be81-2c8527fc81a2"
      },
      "execution_count": 30,
      "outputs": [
        {
          "output_type": "stream",
          "name": "stdout",
          "text": [
            "None\n"
          ]
        }
      ]
    },
    {
      "cell_type": "markdown",
      "source": [
        "#filling festival with mode"
      ],
      "metadata": {
        "id": "lD6xHvEew5Cw"
      }
    },
    {
      "cell_type": "code",
      "source": [
        "print(df['Festival'].fillna(df['Festival'].mode()[0],inplace=True))"
      ],
      "metadata": {
        "colab": {
          "base_uri": "https://localhost:8080/"
        },
        "id": "Io7DaCkPw-Kt",
        "outputId": "de7d301c-236d-43dc-b15d-bea328706108"
      },
      "execution_count": 36,
      "outputs": [
        {
          "output_type": "stream",
          "name": "stdout",
          "text": [
            "None\n"
          ]
        }
      ]
    },
    {
      "cell_type": "markdown",
      "source": [
        "#filling city with mode"
      ],
      "metadata": {
        "id": "UgJ0ZOCWxHCJ"
      }
    },
    {
      "cell_type": "code",
      "source": [
        "print(df['City'].fillna(df['City'].mode()[0],inplace=True))"
      ],
      "metadata": {
        "colab": {
          "base_uri": "https://localhost:8080/"
        },
        "id": "9v3r0NKuxJRn",
        "outputId": "0d2fc87f-96a2-4d89-a045-75f698557f19"
      },
      "execution_count": 38,
      "outputs": [
        {
          "output_type": "stream",
          "name": "stdout",
          "text": [
            "None\n"
          ]
        }
      ]
    },
    {
      "cell_type": "markdown",
      "source": [
        "#changing the datatype of age column"
      ],
      "metadata": {
        "id": "tUdYl9OjtouG"
      }
    },
    {
      "cell_type": "code",
      "source": [
        "#checking dtype\n",
        "\n",
        "df['Delivery_person_Age'].dtype"
      ],
      "metadata": {
        "colab": {
          "base_uri": "https://localhost:8080/"
        },
        "id": "wVsHR5vftsA6",
        "outputId": "fefb780b-c298-454e-8c5a-eb015761b997"
      },
      "execution_count": 18,
      "outputs": [
        {
          "output_type": "execute_result",
          "data": {
            "text/plain": [
              "dtype('float64')"
            ]
          },
          "metadata": {},
          "execution_count": 18
        }
      ]
    },
    {
      "cell_type": "code",
      "source": [
        "#changing the dtype\n",
        "\n",
        "df['Delivery_person_Age'].astype('int64')"
      ],
      "metadata": {
        "colab": {
          "base_uri": "https://localhost:8080/",
          "height": 458
        },
        "id": "vAEax3Ivt88X",
        "outputId": "70af177c-3aea-4cec-e750-d5eb8e68db90"
      },
      "execution_count": 19,
      "outputs": [
        {
          "output_type": "execute_result",
          "data": {
            "text/plain": [
              "0        36\n",
              "1        21\n",
              "2        23\n",
              "3        34\n",
              "4        24\n",
              "         ..\n",
              "45579    30\n",
              "45580    21\n",
              "45581    30\n",
              "45582    20\n",
              "45583    23\n",
              "Name: Delivery_person_Age, Length: 45584, dtype: int64"
            ],
            "text/html": [
              "<div>\n",
              "<style scoped>\n",
              "    .dataframe tbody tr th:only-of-type {\n",
              "        vertical-align: middle;\n",
              "    }\n",
              "\n",
              "    .dataframe tbody tr th {\n",
              "        vertical-align: top;\n",
              "    }\n",
              "\n",
              "    .dataframe thead th {\n",
              "        text-align: right;\n",
              "    }\n",
              "</style>\n",
              "<table border=\"1\" class=\"dataframe\">\n",
              "  <thead>\n",
              "    <tr style=\"text-align: right;\">\n",
              "      <th></th>\n",
              "      <th>Delivery_person_Age</th>\n",
              "    </tr>\n",
              "  </thead>\n",
              "  <tbody>\n",
              "    <tr>\n",
              "      <th>0</th>\n",
              "      <td>36</td>\n",
              "    </tr>\n",
              "    <tr>\n",
              "      <th>1</th>\n",
              "      <td>21</td>\n",
              "    </tr>\n",
              "    <tr>\n",
              "      <th>2</th>\n",
              "      <td>23</td>\n",
              "    </tr>\n",
              "    <tr>\n",
              "      <th>3</th>\n",
              "      <td>34</td>\n",
              "    </tr>\n",
              "    <tr>\n",
              "      <th>4</th>\n",
              "      <td>24</td>\n",
              "    </tr>\n",
              "    <tr>\n",
              "      <th>...</th>\n",
              "      <td>...</td>\n",
              "    </tr>\n",
              "    <tr>\n",
              "      <th>45579</th>\n",
              "      <td>30</td>\n",
              "    </tr>\n",
              "    <tr>\n",
              "      <th>45580</th>\n",
              "      <td>21</td>\n",
              "    </tr>\n",
              "    <tr>\n",
              "      <th>45581</th>\n",
              "      <td>30</td>\n",
              "    </tr>\n",
              "    <tr>\n",
              "      <th>45582</th>\n",
              "      <td>20</td>\n",
              "    </tr>\n",
              "    <tr>\n",
              "      <th>45583</th>\n",
              "      <td>23</td>\n",
              "    </tr>\n",
              "  </tbody>\n",
              "</table>\n",
              "<p>45584 rows × 1 columns</p>\n",
              "</div><br><label><b>dtype:</b> int64</label>"
            ]
          },
          "metadata": {},
          "execution_count": 19
        }
      ]
    },
    {
      "cell_type": "markdown",
      "source": [
        "#droping time ordered rows with null"
      ],
      "metadata": {
        "id": "kp5RB1WWwgEA"
      }
    },
    {
      "cell_type": "code",
      "source": [
        "df.dropna(subset=['Time_Orderd'],inplace=True)"
      ],
      "metadata": {
        "id": "wgJ7AaN9wnK_"
      },
      "execution_count": 32,
      "outputs": []
    },
    {
      "cell_type": "code",
      "source": [
        "df.isnull().sum()"
      ],
      "metadata": {
        "colab": {
          "base_uri": "https://localhost:8080/",
          "height": 711
        },
        "id": "_KuZG_bwvVI7",
        "outputId": "912476db-d092-4d1c-89a7-fd3c30a98587"
      },
      "execution_count": 40,
      "outputs": [
        {
          "output_type": "execute_result",
          "data": {
            "text/plain": [
              "ID                             0\n",
              "Delivery_person_ID             0\n",
              "Delivery_person_Age            0\n",
              "Delivery_person_Ratings        0\n",
              "Restaurant_latitude            0\n",
              "Restaurant_longitude           0\n",
              "Delivery_location_latitude     0\n",
              "Delivery_location_longitude    0\n",
              "Order_Date                     0\n",
              "Time_Orderd                    0\n",
              "Time_Order_picked              0\n",
              "Weather_conditions             0\n",
              "Road_traffic_density           0\n",
              "Vehicle_condition              0\n",
              "Type_of_order                  0\n",
              "Type_of_vehicle                0\n",
              "multiple_deliveries            0\n",
              "Festival                       0\n",
              "City                           0\n",
              "Time_taken (min)               0\n",
              "dtype: int64"
            ],
            "text/html": [
              "<div>\n",
              "<style scoped>\n",
              "    .dataframe tbody tr th:only-of-type {\n",
              "        vertical-align: middle;\n",
              "    }\n",
              "\n",
              "    .dataframe tbody tr th {\n",
              "        vertical-align: top;\n",
              "    }\n",
              "\n",
              "    .dataframe thead th {\n",
              "        text-align: right;\n",
              "    }\n",
              "</style>\n",
              "<table border=\"1\" class=\"dataframe\">\n",
              "  <thead>\n",
              "    <tr style=\"text-align: right;\">\n",
              "      <th></th>\n",
              "      <th>0</th>\n",
              "    </tr>\n",
              "  </thead>\n",
              "  <tbody>\n",
              "    <tr>\n",
              "      <th>ID</th>\n",
              "      <td>0</td>\n",
              "    </tr>\n",
              "    <tr>\n",
              "      <th>Delivery_person_ID</th>\n",
              "      <td>0</td>\n",
              "    </tr>\n",
              "    <tr>\n",
              "      <th>Delivery_person_Age</th>\n",
              "      <td>0</td>\n",
              "    </tr>\n",
              "    <tr>\n",
              "      <th>Delivery_person_Ratings</th>\n",
              "      <td>0</td>\n",
              "    </tr>\n",
              "    <tr>\n",
              "      <th>Restaurant_latitude</th>\n",
              "      <td>0</td>\n",
              "    </tr>\n",
              "    <tr>\n",
              "      <th>Restaurant_longitude</th>\n",
              "      <td>0</td>\n",
              "    </tr>\n",
              "    <tr>\n",
              "      <th>Delivery_location_latitude</th>\n",
              "      <td>0</td>\n",
              "    </tr>\n",
              "    <tr>\n",
              "      <th>Delivery_location_longitude</th>\n",
              "      <td>0</td>\n",
              "    </tr>\n",
              "    <tr>\n",
              "      <th>Order_Date</th>\n",
              "      <td>0</td>\n",
              "    </tr>\n",
              "    <tr>\n",
              "      <th>Time_Orderd</th>\n",
              "      <td>0</td>\n",
              "    </tr>\n",
              "    <tr>\n",
              "      <th>Time_Order_picked</th>\n",
              "      <td>0</td>\n",
              "    </tr>\n",
              "    <tr>\n",
              "      <th>Weather_conditions</th>\n",
              "      <td>0</td>\n",
              "    </tr>\n",
              "    <tr>\n",
              "      <th>Road_traffic_density</th>\n",
              "      <td>0</td>\n",
              "    </tr>\n",
              "    <tr>\n",
              "      <th>Vehicle_condition</th>\n",
              "      <td>0</td>\n",
              "    </tr>\n",
              "    <tr>\n",
              "      <th>Type_of_order</th>\n",
              "      <td>0</td>\n",
              "    </tr>\n",
              "    <tr>\n",
              "      <th>Type_of_vehicle</th>\n",
              "      <td>0</td>\n",
              "    </tr>\n",
              "    <tr>\n",
              "      <th>multiple_deliveries</th>\n",
              "      <td>0</td>\n",
              "    </tr>\n",
              "    <tr>\n",
              "      <th>Festival</th>\n",
              "      <td>0</td>\n",
              "    </tr>\n",
              "    <tr>\n",
              "      <th>City</th>\n",
              "      <td>0</td>\n",
              "    </tr>\n",
              "    <tr>\n",
              "      <th>Time_taken (min)</th>\n",
              "      <td>0</td>\n",
              "    </tr>\n",
              "  </tbody>\n",
              "</table>\n",
              "</div><br><label><b>dtype:</b> int64</label>"
            ]
          },
          "metadata": {},
          "execution_count": 40
        }
      ]
    },
    {
      "cell_type": "markdown",
      "source": [
        "#to check the city categories"
      ],
      "metadata": {
        "id": "vdWQk-y5x4lR"
      }
    },
    {
      "cell_type": "code",
      "source": [
        "df['City'].value_counts()"
      ],
      "metadata": {
        "colab": {
          "base_uri": "https://localhost:8080/",
          "height": 209
        },
        "id": "QPZ6xVxGxonX",
        "outputId": "8da764eb-36ae-48e2-9d31-efebbaea8b74"
      },
      "execution_count": 46,
      "outputs": [
        {
          "output_type": "execute_result",
          "data": {
            "text/plain": [
              "City\n",
              "Metropolitian    33940\n",
              "Urban             9757\n",
              "Semi-Urban         156\n",
              "Name: count, dtype: int64"
            ],
            "text/html": [
              "<div>\n",
              "<style scoped>\n",
              "    .dataframe tbody tr th:only-of-type {\n",
              "        vertical-align: middle;\n",
              "    }\n",
              "\n",
              "    .dataframe tbody tr th {\n",
              "        vertical-align: top;\n",
              "    }\n",
              "\n",
              "    .dataframe thead th {\n",
              "        text-align: right;\n",
              "    }\n",
              "</style>\n",
              "<table border=\"1\" class=\"dataframe\">\n",
              "  <thead>\n",
              "    <tr style=\"text-align: right;\">\n",
              "      <th></th>\n",
              "      <th>count</th>\n",
              "    </tr>\n",
              "    <tr>\n",
              "      <th>City</th>\n",
              "      <th></th>\n",
              "    </tr>\n",
              "  </thead>\n",
              "  <tbody>\n",
              "    <tr>\n",
              "      <th>Metropolitian</th>\n",
              "      <td>33940</td>\n",
              "    </tr>\n",
              "    <tr>\n",
              "      <th>Urban</th>\n",
              "      <td>9757</td>\n",
              "    </tr>\n",
              "    <tr>\n",
              "      <th>Semi-Urban</th>\n",
              "      <td>156</td>\n",
              "    </tr>\n",
              "  </tbody>\n",
              "</table>\n",
              "</div><br><label><b>dtype:</b> int64</label>"
            ]
          },
          "metadata": {},
          "execution_count": 46
        }
      ]
    },
    {
      "cell_type": "markdown",
      "source": [
        "#TO CHECK THE TYPE OF VEHICLES"
      ],
      "metadata": {
        "id": "ue31xJHDx9wX"
      }
    },
    {
      "cell_type": "code",
      "source": [
        "df['Type_of_vehicle'].value_counts()"
      ],
      "metadata": {
        "colab": {
          "base_uri": "https://localhost:8080/",
          "height": 209
        },
        "id": "eEl5ILArxu72",
        "outputId": "3991239b-d39e-4e70-85a4-0e01e05f7bd0"
      },
      "execution_count": 47,
      "outputs": [
        {
          "output_type": "execute_result",
          "data": {
            "text/plain": [
              "Type_of_vehicle\n",
              "motorcycle          25627\n",
              "scooter             14692\n",
              "electric_scooter     3534\n",
              "Name: count, dtype: int64"
            ],
            "text/html": [
              "<div>\n",
              "<style scoped>\n",
              "    .dataframe tbody tr th:only-of-type {\n",
              "        vertical-align: middle;\n",
              "    }\n",
              "\n",
              "    .dataframe tbody tr th {\n",
              "        vertical-align: top;\n",
              "    }\n",
              "\n",
              "    .dataframe thead th {\n",
              "        text-align: right;\n",
              "    }\n",
              "</style>\n",
              "<table border=\"1\" class=\"dataframe\">\n",
              "  <thead>\n",
              "    <tr style=\"text-align: right;\">\n",
              "      <th></th>\n",
              "      <th>count</th>\n",
              "    </tr>\n",
              "    <tr>\n",
              "      <th>Type_of_vehicle</th>\n",
              "      <th></th>\n",
              "    </tr>\n",
              "  </thead>\n",
              "  <tbody>\n",
              "    <tr>\n",
              "      <th>motorcycle</th>\n",
              "      <td>25627</td>\n",
              "    </tr>\n",
              "    <tr>\n",
              "      <th>scooter</th>\n",
              "      <td>14692</td>\n",
              "    </tr>\n",
              "    <tr>\n",
              "      <th>electric_scooter</th>\n",
              "      <td>3534</td>\n",
              "    </tr>\n",
              "  </tbody>\n",
              "</table>\n",
              "</div><br><label><b>dtype:</b> int64</label>"
            ]
          },
          "metadata": {},
          "execution_count": 47
        }
      ]
    },
    {
      "cell_type": "code",
      "source": [
        "df['Type_of_vehicle'].nunique()"
      ],
      "metadata": {
        "colab": {
          "base_uri": "https://localhost:8080/"
        },
        "id": "4yaSsq54yIm-",
        "outputId": "f977784d-b549-4521-f4ea-f0109e571613"
      },
      "execution_count": 48,
      "outputs": [
        {
          "output_type": "execute_result",
          "data": {
            "text/plain": [
              "3"
            ]
          },
          "metadata": {},
          "execution_count": 48
        }
      ]
    },
    {
      "cell_type": "markdown",
      "source": [
        "#to check unique delivery ids"
      ],
      "metadata": {
        "id": "key6yRASyRBF"
      }
    },
    {
      "cell_type": "code",
      "source": [
        "df['Delivery_person_ID'].nunique()"
      ],
      "metadata": {
        "colab": {
          "base_uri": "https://localhost:8080/"
        },
        "id": "19xk3FvgyTvz",
        "outputId": "df93ba3c-7ead-4b5a-ad86-c26d2cf58d16"
      },
      "execution_count": 50,
      "outputs": [
        {
          "output_type": "execute_result",
          "data": {
            "text/plain": [
              "1320"
            ]
          },
          "metadata": {},
          "execution_count": 50
        }
      ]
    },
    {
      "cell_type": "markdown",
      "source": [
        "#festivals days count"
      ],
      "metadata": {
        "id": "skhP-Z28ybxj"
      }
    },
    {
      "cell_type": "code",
      "source": [
        "df['Festival'].value_counts()"
      ],
      "metadata": {
        "colab": {
          "base_uri": "https://localhost:8080/",
          "height": 178
        },
        "id": "7Uz2lJlEye7q",
        "outputId": "842be9c2-3eb8-4a81-b616-4297a1974298"
      },
      "execution_count": 51,
      "outputs": [
        {
          "output_type": "execute_result",
          "data": {
            "text/plain": [
              "Festival\n",
              "No     42996\n",
              "Yes      857\n",
              "Name: count, dtype: int64"
            ],
            "text/html": [
              "<div>\n",
              "<style scoped>\n",
              "    .dataframe tbody tr th:only-of-type {\n",
              "        vertical-align: middle;\n",
              "    }\n",
              "\n",
              "    .dataframe tbody tr th {\n",
              "        vertical-align: top;\n",
              "    }\n",
              "\n",
              "    .dataframe thead th {\n",
              "        text-align: right;\n",
              "    }\n",
              "</style>\n",
              "<table border=\"1\" class=\"dataframe\">\n",
              "  <thead>\n",
              "    <tr style=\"text-align: right;\">\n",
              "      <th></th>\n",
              "      <th>count</th>\n",
              "    </tr>\n",
              "    <tr>\n",
              "      <th>Festival</th>\n",
              "      <th></th>\n",
              "    </tr>\n",
              "  </thead>\n",
              "  <tbody>\n",
              "    <tr>\n",
              "      <th>No</th>\n",
              "      <td>42996</td>\n",
              "    </tr>\n",
              "    <tr>\n",
              "      <th>Yes</th>\n",
              "      <td>857</td>\n",
              "    </tr>\n",
              "  </tbody>\n",
              "</table>\n",
              "</div><br><label><b>dtype:</b> int64</label>"
            ]
          },
          "metadata": {},
          "execution_count": 51
        }
      ]
    },
    {
      "cell_type": "markdown",
      "source": [
        "#PHASE-2"
      ],
      "metadata": {
        "id": "P7zqcbDtyxOj"
      }
    },
    {
      "cell_type": "markdown",
      "source": [
        "#univariate analysis"
      ],
      "metadata": {
        "id": "Ebzb2lByy5Z9"
      }
    },
    {
      "cell_type": "markdown",
      "source": [
        "#1.**Distribution of delivery times**"
      ],
      "metadata": {
        "id": "gZmXZx_7y7pa"
      }
    },
    {
      "cell_type": "code",
      "source": [
        "plt.figure(figsize=(8,5))\n",
        "sns.histplot(df['Time_taken (min)'], bins=25, kde=True)\n",
        "plt.title(\"Distribution of Delivery Times (minutes)\")\n",
        "plt.xlabel(\"Time Taken (min)\")\n",
        "plt.ylabel(\"Count\")\n",
        "plt.show()\n"
      ],
      "metadata": {
        "colab": {
          "base_uri": "https://localhost:8080/",
          "height": 487
        },
        "id": "GHm6PvsuzB5x",
        "outputId": "2d680252-8593-42cd-f0a7-e32cb80c7881"
      },
      "execution_count": 53,
      "outputs": [
        {
          "output_type": "display_data",
          "data": {
            "text/plain": [
              "<Figure size 800x500 with 1 Axes>"
            ],
            "image/png": "[encoded data removed]"
          },
          "metadata": {}
        }
      ]
    },
    {
      "cell_type": "markdown",
      "source": [
        "✅ Typical Insights You Can Mention:\n",
        "\n",
        "Most deliveries fall between 20–40 minutes (you will confirm this by looking at the peak of your histogram).\n",
        "\n",
        "There may be a right skew (long tail) → a few deliveries take much longer (due to traffic, distance, multiple orders, etc.).\n",
        "\n",
        "The average delivery time will likely be around 30 minutes.\n",
        "\n",
        "Very few deliveries happen in less than 15 minutes (possibly only when restaurant & delivery location are very close)."
      ],
      "metadata": {
        "id": "ZVKpwG8Az2iG"
      }
    },
    {
      "cell_type": "markdown",
      "source": [],
      "metadata": {
        "id": "nGb8mYAGz6NN"
      }
    },
    {
      "cell_type": "code",
      "source": [
        "tym_taken=df[df['Time_taken (min)']>50]\n",
        "tym_taken"
      ],
      "metadata": {
        "colab": {
          "base_uri": "https://localhost:8080/",
          "height": 461
        },
        "id": "wUJ6YN_7zLE2",
        "outputId": "dfc1ea19-2e52-461e-bb32-926dd17a9f11"
      },
      "execution_count": 57,
      "outputs": [
        {
          "output_type": "execute_result",
          "data": {
            "text/plain": [
              "           ID Delivery_person_ID  Delivery_person_Age  \\\n",
              "34     0xb796      SURRES17DEL03                 37.0   \n",
              "179    0x4b5b      MYSRES04DEL03                 38.0   \n",
              "257    0xd92f      AGRRES03DEL01                 35.0   \n",
              "632    0xc2ba     LUDHRES18DEL03                 20.0   \n",
              "713    0x836d      HYDRES06DEL01                 31.0   \n",
              "...       ...                ...                  ...   \n",
              "45198  0x5ff8      MYSRES03DEL03                 39.0   \n",
              "45222  0x5df8      HYDRES08DEL02                 35.0   \n",
              "45285  0x713d      JAPRES07DEL02                 39.0   \n",
              "45296  0x2271      SURRES19DEL01                 35.0   \n",
              "45439  0x2397      MYSRES17DEL03                 37.0   \n",
              "\n",
              "       Delivery_person_Ratings  Restaurant_latitude  Restaurant_longitude  \\\n",
              "34                         4.7            21.149569             72.772697   \n",
              "179                        4.3            12.308500             76.665808   \n",
              "257                        4.9            27.160832             78.011608   \n",
              "632                        3.9            30.890184             75.829615   \n",
              "713                        4.4            17.455894             78.375467   \n",
              "...                        ...                  ...                   ...   \n",
              "45198                      4.1            12.299524             76.642620   \n",
              "45222                      4.9            17.438263             78.397865   \n",
              "45285                      4.4            26.766536             75.837333   \n",
              "45296                      4.7            21.149669             72.772629   \n",
              "45439                      4.6            12.326356             76.619103   \n",
              "\n",
              "       Delivery_location_latitude  Delivery_location_longitude  Order_Date  \\\n",
              "34                      21.239569                    72.862697  04-04-2022   \n",
              "179                     12.398500                    76.755808  04-04-2022   \n",
              "257                     27.230832                    78.081608  18-02-2022   \n",
              "632                     30.950184                    75.889615  11-02-2022   \n",
              "713                     17.525894                    78.445467  25-03-2022   \n",
              "...                           ...                          ...         ...   \n",
              "45198                   12.389524                    76.732620  23-03-2022   \n",
              "45222                   17.568263                    78.527865  02-03-2022   \n",
              "45285                   26.896536                    75.967333  18-03-2022   \n",
              "45296                   21.219669                    72.842629  23-03-2022   \n",
              "45439                   12.416356                    76.709103  14-03-2022   \n",
              "\n",
              "      Time_Orderd Time_Order_picked Weather_conditions Road_traffic_density  \\\n",
              "34          19:45             19:50         Sandstorms                  Jam   \n",
              "179         21:15             21:25         Sandstorms                  Jam   \n",
              "257         21:15             21:30             Cloudy                  Jam   \n",
              "632         20:40             20:45              Sunny                  Jam   \n",
              "713         19:35             19:40             Stormy                  Jam   \n",
              "...           ...               ...                ...                  ...   \n",
              "45198       20:55             21:05         Sandstorms                  Jam   \n",
              "45222       20:35             20:40             Cloudy                  Jam   \n",
              "45285       21:35             21:45         Sandstorms                  Jam   \n",
              "45296       20:45             0.875             Cloudy                  Jam   \n",
              "45439       20:10             20:15              Windy                  Jam   \n",
              "\n",
              "       Vehicle_condition Type_of_order Type_of_vehicle  multiple_deliveries  \\\n",
              "34                     0         Snack      motorcycle                  3.0   \n",
              "179                    0          Meal      motorcycle                  1.0   \n",
              "257                    0        Buffet      motorcycle                  2.0   \n",
              "632                    0        Buffet      motorcycle                  1.0   \n",
              "713                    0          Meal      motorcycle                  1.0   \n",
              "...                  ...           ...             ...                  ...   \n",
              "45198                  0        Drinks      motorcycle                  3.0   \n",
              "45222                  0        Drinks      motorcycle                  1.0   \n",
              "45285                  0        Drinks      motorcycle                  1.0   \n",
              "45296                  0          Meal      motorcycle                  1.0   \n",
              "45439                  0         Snack      motorcycle                  1.0   \n",
              "\n",
              "      Festival           City  Time_taken (min)  \n",
              "34          No  Metropolitian                52  \n",
              "179        Yes     Semi-Urban                54  \n",
              "257         No  Metropolitian                53  \n",
              "632         No  Metropolitian                54  \n",
              "713        Yes  Metropolitian                53  \n",
              "...        ...            ...               ...  \n",
              "45198       No  Metropolitian                51  \n",
              "45222       No     Semi-Urban                51  \n",
              "45285       No  Metropolitian                53  \n",
              "45296       No  Metropolitian                51  \n",
              "45439      Yes     Semi-Urban                53  \n",
              "\n",
              "[346 rows x 20 columns]"
            ],
            "text/html": [
              "\n",
              "  <div id=\"df-5394d1d4-4eb8-44e8-86f3-ab360c9bf230\" class=\"colab-df-container\">\n",
              "    <div>\n",
              "<style scoped>\n",
              "    .dataframe tbody tr th:only-of-type {\n",
              "        vertical-align: middle;\n",
              "    }\n",
              "\n",
              "    .dataframe tbody tr th {\n",
              "        vertical-align: top;\n",
              "    }\n",
              "\n",
              "    .dataframe thead th {\n",
              "        text-align: right;\n",
              "    }\n",
              "</style>\n",
              "<table border=\"1\" class=\"dataframe\">\n",
              "  <thead>\n",
              "    <tr style=\"text-align: right;\">\n",
              "      <th></th>\n",
              "      <th>ID</th>\n",
              "      <th>Delivery_person_ID</th>\n",
              "      <th>Delivery_person_Age</th>\n",
              "      <th>Delivery_person_Ratings</th>\n",
              "      <th>Restaurant_latitude</th>\n",
              "      <th>Restaurant_longitude</th>\n",
              "      <th>Delivery_location_latitude</th>\n",
              "      <th>Delivery_location_longitude</th>\n",
              "      <th>Order_Date</th>\n",
              "      <th>Time_Orderd</th>\n",
              "      <th>Time_Order_picked</th>\n",
              "      <th>Weather_conditions</th>\n",
              "      <th>Road_traffic_density</th>\n",
              "      <th>Vehicle_condition</th>\n",
              "      <th>Type_of_order</th>\n",
              "      <th>Type_of_vehicle</th>\n",
              "      <th>multiple_deliveries</th>\n",
              "      <th>Festival</th>\n",
              "      <th>City</th>\n",
              "      <th>Time_taken (min)</th>\n",
              "    </tr>\n",
              "  </thead>\n",
              "  <tbody>\n",
              "    <tr>\n",
              "      <th>34</th>\n",
              "      <td>0xb796</td>\n",
              "      <td>SURRES17DEL03</td>\n",
              "      <td>37.0</td>\n",
              "      <td>4.7</td>\n",
              "      <td>21.149569</td>\n",
              "      <td>72.772697</td>\n",
              "      <td>21.239569</td>\n",
              "      <td>72.862697</td>\n",
              "      <td>04-04-2022</td>\n",
              "      <td>19:45</td>\n",
              "      <td>19:50</td>\n",
              "      <td>Sandstorms</td>\n",
              "      <td>Jam</td>\n",
              "      <td>0</td>\n",
              "      <td>Snack</td>\n",
              "      <td>motorcycle</td>\n",
              "      <td>3.0</td>\n",
              "      <td>No</td>\n",
              "      <td>Metropolitian</td>\n",
              "      <td>52</td>\n",
              "    </tr>\n",
              "    <tr>\n",
              "      <th>179</th>\n",
              "      <td>0x4b5b</td>\n",
              "      <td>MYSRES04DEL03</td>\n",
              "      <td>38.0</td>\n",
              "      <td>4.3</td>\n",
              "      <td>12.308500</td>\n",
              "      <td>76.665808</td>\n",
              "      <td>12.398500</td>\n",
              "      <td>76.755808</td>\n",
              "      <td>04-04-2022</td>\n",
              "      <td>21:15</td>\n",
              "      <td>21:25</td>\n",
              "      <td>Sandstorms</td>\n",
              "      <td>Jam</td>\n",
              "      <td>0</td>\n",
              "      <td>Meal</td>\n",
              "      <td>motorcycle</td>\n",
              "      <td>1.0</td>\n",
              "      <td>Yes</td>\n",
              "      <td>Semi-Urban</td>\n",
              "      <td>54</td>\n",
              "    </tr>\n",
              "    <tr>\n",
              "      <th>257</th>\n",
              "      <td>0xd92f</td>\n",
              "      <td>AGRRES03DEL01</td>\n",
              "      <td>35.0</td>\n",
              "      <td>4.9</td>\n",
              "      <td>27.160832</td>\n",
              "      <td>78.011608</td>\n",
              "      <td>27.230832</td>\n",
              "      <td>78.081608</td>\n",
              "      <td>18-02-2022</td>\n",
              "      <td>21:15</td>\n",
              "      <td>21:30</td>\n",
              "      <td>Cloudy</td>\n",
              "      <td>Jam</td>\n",
              "      <td>0</td>\n",
              "      <td>Buffet</td>\n",
              "      <td>motorcycle</td>\n",
              "      <td>2.0</td>\n",
              "      <td>No</td>\n",
              "      <td>Metropolitian</td>\n",
              "      <td>53</td>\n",
              "    </tr>\n",
              "    <tr>\n",
              "      <th>632</th>\n",
              "      <td>0xc2ba</td>\n",
              "      <td>LUDHRES18DEL03</td>\n",
              "      <td>20.0</td>\n",
              "      <td>3.9</td>\n",
              "      <td>30.890184</td>\n",
              "      <td>75.829615</td>\n",
              "      <td>30.950184</td>\n",
              "      <td>75.889615</td>\n",
              "      <td>11-02-2022</td>\n",
              "      <td>20:40</td>\n",
              "      <td>20:45</td>\n",
              "      <td>Sunny</td>\n",
              "      <td>Jam</td>\n",
              "      <td>0</td>\n",
              "      <td>Buffet</td>\n",
              "      <td>motorcycle</td>\n",
              "      <td>1.0</td>\n",
              "      <td>No</td>\n",
              "      <td>Metropolitian</td>\n",
              "      <td>54</td>\n",
              "    </tr>\n",
              "    <tr>\n",
              "      <th>713</th>\n",
              "      <td>0x836d</td>\n",
              "      <td>HYDRES06DEL01</td>\n",
              "      <td>31.0</td>\n",
              "      <td>4.4</td>\n",
              "      <td>17.455894</td>\n",
              "      <td>78.375467</td>\n",
              "      <td>17.525894</td>\n",
              "      <td>78.445467</td>\n",
              "      <td>25-03-2022</td>\n",
              "      <td>19:35</td>\n",
              "      <td>19:40</td>\n",
              "      <td>Stormy</td>\n",
              "      <td>Jam</td>\n",
              "      <td>0</td>\n",
              "      <td>Meal</td>\n",
              "      <td>motorcycle</td>\n",
              "      <td>1.0</td>\n",
              "      <td>Yes</td>\n",
              "      <td>Metropolitian</td>\n",
              "      <td>53</td>\n",
              "    </tr>\n",
              "    <tr>\n",
              "      <th>...</th>\n",
              "      <td>...</td>\n",
              "      <td>...</td>\n",
              "      <td>...</td>\n",
              "      <td>...</td>\n",
              "      <td>...</td>\n",
              "      <td>...</td>\n",
              "      <td>...</td>\n",
              "      <td>...</td>\n",
              "      <td>...</td>\n",
              "      <td>...</td>\n",
              "      <td>...</td>\n",
              "      <td>...</td>\n",
              "      <td>...</td>\n",
              "      <td>...</td>\n",
              "      <td>...</td>\n",
              "      <td>...</td>\n",
              "      <td>...</td>\n",
              "      <td>...</td>\n",
              "      <td>...</td>\n",
              "      <td>...</td>\n",
              "    </tr>\n",
              "    <tr>\n",
              "      <th>45198</th>\n",
              "      <td>0x5ff8</td>\n",
              "      <td>MYSRES03DEL03</td>\n",
              "      <td>39.0</td>\n",
              "      <td>4.1</td>\n",
              "      <td>12.299524</td>\n",
              "      <td>76.642620</td>\n",
              "      <td>12.389524</td>\n",
              "      <td>76.732620</td>\n",
              "      <td>23-03-2022</td>\n",
              "      <td>20:55</td>\n",
              "      <td>21:05</td>\n",
              "      <td>Sandstorms</td>\n",
              "      <td>Jam</td>\n",
              "      <td>0</td>\n",
              "      <td>Drinks</td>\n",
              "      <td>motorcycle</td>\n",
              "      <td>3.0</td>\n",
              "      <td>No</td>\n",
              "      <td>Metropolitian</td>\n",
              "      <td>51</td>\n",
              "    </tr>\n",
              "    <tr>\n",
              "      <th>45222</th>\n",
              "      <td>0x5df8</td>\n",
              "      <td>HYDRES08DEL02</td>\n",
              "      <td>35.0</td>\n",
              "      <td>4.9</td>\n",
              "      <td>17.438263</td>\n",
              "      <td>78.397865</td>\n",
              "      <td>17.568263</td>\n",
              "      <td>78.527865</td>\n",
              "      <td>02-03-2022</td>\n",
              "      <td>20:35</td>\n",
              "      <td>20:40</td>\n",
              "      <td>Cloudy</td>\n",
              "      <td>Jam</td>\n",
              "      <td>0</td>\n",
              "      <td>Drinks</td>\n",
              "      <td>motorcycle</td>\n",
              "      <td>1.0</td>\n",
              "      <td>No</td>\n",
              "      <td>Semi-Urban</td>\n",
              "      <td>51</td>\n",
              "    </tr>\n",
              "    <tr>\n",
              "      <th>45285</th>\n",
              "      <td>0x713d</td>\n",
              "      <td>JAPRES07DEL02</td>\n",
              "      <td>39.0</td>\n",
              "      <td>4.4</td>\n",
              "      <td>26.766536</td>\n",
              "      <td>75.837333</td>\n",
              "      <td>26.896536</td>\n",
              "      <td>75.967333</td>\n",
              "      <td>18-03-2022</td>\n",
              "      <td>21:35</td>\n",
              "      <td>21:45</td>\n",
              "      <td>Sandstorms</td>\n",
              "      <td>Jam</td>\n",
              "      <td>0</td>\n",
              "      <td>Drinks</td>\n",
              "      <td>motorcycle</td>\n",
              "      <td>1.0</td>\n",
              "      <td>No</td>\n",
              "      <td>Metropolitian</td>\n",
              "      <td>53</td>\n",
              "    </tr>\n",
              "    <tr>\n",
              "      <th>45296</th>\n",
              "      <td>0x2271</td>\n",
              "      <td>SURRES19DEL01</td>\n",
              "      <td>35.0</td>\n",
              "      <td>4.7</td>\n",
              "      <td>21.149669</td>\n",
              "      <td>72.772629</td>\n",
              "      <td>21.219669</td>\n",
              "      <td>72.842629</td>\n",
              "      <td>23-03-2022</td>\n",
              "      <td>20:45</td>\n",
              "      <td>0.875</td>\n",
              "      <td>Cloudy</td>\n",
              "      <td>Jam</td>\n",
              "      <td>0</td>\n",
              "      <td>Meal</td>\n",
              "      <td>motorcycle</td>\n",
              "      <td>1.0</td>\n",
              "      <td>No</td>\n",
              "      <td>Metropolitian</td>\n",
              "      <td>51</td>\n",
              "    </tr>\n",
              "    <tr>\n",
              "      <th>45439</th>\n",
              "      <td>0x2397</td>\n",
              "      <td>MYSRES17DEL03</td>\n",
              "      <td>37.0</td>\n",
              "      <td>4.6</td>\n",
              "      <td>12.326356</td>\n",
              "      <td>76.619103</td>\n",
              "      <td>12.416356</td>\n",
              "      <td>76.709103</td>\n",
              "      <td>14-03-2022</td>\n",
              "      <td>20:10</td>\n",
              "      <td>20:15</td>\n",
              "      <td>Windy</td>\n",
              "      <td>Jam</td>\n",
              "      <td>0</td>\n",
              "      <td>Snack</td>\n",
              "      <td>motorcycle</td>\n",
              "      <td>1.0</td>\n",
              "      <td>Yes</td>\n",
              "      <td>Semi-Urban</td>\n",
              "      <td>53</td>\n",
              "    </tr>\n",
              "  </tbody>\n",
              "</table>\n",
              "<p>346 rows × 20 columns</p>\n",
              "</div>\n",
              "    <div class=\"colab-df-buttons\">\n",
              "\n",
              "  <div class=\"colab-df-container\">\n",
              "    <button class=\"colab-df-convert\" onclick=\"convertToInteractive('df-5394d1d4-4eb8-44e8-86f3-ab360c9bf230')\"\n",
              "            title=\"Convert this dataframe to an interactive table.\"\n",
              "            style=\"display:none;\">\n",
              "\n",
              "  <svg xmlns=\"http://www.w3.org/2000/svg\" height=\"24px\" viewBox=\"0 -960 960 960\">\n",
              "    <path d=\"M120-120v-720h720v720H120Zm60-500h600v-160H180v160Zm220 220h160v-160H400v160Zm0 220h160v-160H400v160ZM180-400h160v-160H180v160Zm440 0h160v-160H620v160ZM180-180h160v-160H180v160Zm440 0h160v-160H620v160Z\"/>\n",
              "  </svg>\n",
              "    </button>\n",
              "\n",
              "  <style>\n",
              "    .colab-df-container {\n",
              "      display:flex;\n",
              "      gap: 12px;\n",
              "    }\n",
              "\n",
              "    .colab-df-convert {\n",
              "      background-color: #E8F0FE;\n",
              "      border: none;\n",
              "      border-radius: 50%;\n",
              "      cursor: pointer;\n",
              "      display: none;\n",
              "      fill: #1967D2;\n",
              "      height: 32px;\n",
              "      padding: 0 0 0 0;\n",
              "      width: 32px;\n",
              "    }\n",
              "\n",
              "    .colab-df-convert:hover {\n",
              "      background-color: #E2EBFA;\n",
              "      box-shadow: 0px 1px 2px rgba(60, 64, 67, 0.3), 0px 1px 3px 1px rgba(60, 64, 67, 0.15);\n",
              "      fill: #174EA6;\n",
              "    }\n",
              "\n",
              "    .colab-df-buttons div {\n",
              "      margin-bottom: 4px;\n",
              "    }\n",
              "\n",
              "    [theme=dark] .colab-df-convert {\n",
              "      background-color: #3B4455;\n",
              "      fill: #D2E3FC;\n",
              "    }\n",
              "\n",
              "    [theme=dark] .colab-df-convert:hover {\n",
              "      background-color: #434B5C;\n",
              "      box-shadow: 0px 1px 3px 1px rgba(0, 0, 0, 0.15);\n",
              "      filter: drop-shadow(0px 1px 2px rgba(0, 0, 0, 0.3));\n",
              "      fill: #FFFFFF;\n",
              "    }\n",
              "  </style>\n",
              "\n",
              "    <script>\n",
              "      const buttonEl =\n",
              "        document.querySelector('#df-5394d1d4-4eb8-44e8-86f3-ab360c9bf230 button.colab-df-convert');\n",
              "      buttonEl.style.display =\n",
              "        google.colab.kernel.accessAllowed ? 'block' : 'none';\n",
              "\n",
              "      async function convertToInteractive(key) {\n",
              "        const element = document.querySelector('#df-5394d1d4-4eb8-44e8-86f3-ab360c9bf230');\n",
              "        const dataTable =\n",
              "          await google.colab.kernel.invokeFunction('convertToInteractive',\n",
              "                                                    [key], {});\n",
              "        if (!dataTable) return;\n",
              "\n",
              "        const docLinkHtml = 'Like what you see? Visit the ' +\n",
              "          '<a target=\"_blank\" href=https://colab.research.google.com/notebooks/data_table.ipynb>data table notebook</a>'\n",
              "          + ' to learn more about interactive tables.';\n",
              "        element.innerHTML = '';\n",
              "        dataTable['output_type'] = 'display_data';\n",
              "        await google.colab.output.renderOutput(dataTable, element);\n",
              "        const docLink = document.createElement('div');\n",
              "        docLink.innerHTML = docLinkHtml;\n",
              "        element.appendChild(docLink);\n",
              "      }\n",
              "    </script>\n",
              "  </div>\n",
              "\n",
              "\n",
              "    <div id=\"df-e011568a-4fd3-451d-9833-b4cd5993dc3e\">\n",
              "      <button class=\"colab-df-quickchart\" onclick=\"quickchart('df-e011568a-4fd3-451d-9833-b4cd5993dc3e')\"\n",
              "                title=\"Suggest charts\"\n",
              "                style=\"display:none;\">\n",
              "\n",
              "<svg xmlns=\"http://www.w3.org/2000/svg\" height=\"24px\"viewBox=\"0 0 24 24\"\n",
              "     width=\"24px\">\n",
              "    <g>\n",
              "        <path d=\"M19 3H5c-1.1 0-2 .9-2 2v14c0 1.1.9 2 2 2h14c1.1 0 2-.9 2-2V5c0-1.1-.9-2-2-2zM9 17H7v-7h2v7zm4 0h-2V7h2v10zm4 0h-2v-4h2v4z\"/>\n",
              "    </g>\n",
              "</svg>\n",
              "      </button>\n",
              "\n",
              "<style>\n",
              "  .colab-df-quickchart {\n",
              "      --bg-color: #E8F0FE;\n",
              "      --fill-color: #1967D2;\n",
              "      --hover-bg-color: #E2EBFA;\n",
              "      --hover-fill-color: #174EA6;\n",
              "      --disabled-fill-color: #AAA;\n",
              "      --disabled-bg-color: #DDD;\n",
              "  }\n",
              "\n",
              "  [theme=dark] .colab-df-quickchart {\n",
              "      --bg-color: #3B4455;\n",
              "      --fill-color: #D2E3FC;\n",
              "      --hover-bg-color: #434B5C;\n",
              "      --hover-fill-color: #FFFFFF;\n",
              "      --disabled-bg-color: #3B4455;\n",
              "      --disabled-fill-color: #666;\n",
              "  }\n",
              "\n",
              "  .colab-df-quickchart {\n",
              "    background-color: var(--bg-color);\n",
              "    border: none;\n",
              "    border-radius: 50%;\n",
              "    cursor: pointer;\n",
              "    display: none;\n",
              "    fill: var(--fill-color);\n",
              "    height: 32px;\n",
              "    padding: 0;\n",
              "    width: 32px;\n",
              "  }\n",
              "\n",
              "  .colab-df-quickchart:hover {\n",
              "    background-color: var(--hover-bg-color);\n",
              "    box-shadow: 0 1px 2px rgba(60, 64, 67, 0.3), 0 1px 3px 1px rgba(60, 64, 67, 0.15);\n",
              "    fill: var(--button-hover-fill-color);\n",
              "  }\n",
              "\n",
              "  .colab-df-quickchart-complete:disabled,\n",
              "  .colab-df-quickchart-complete:disabled:hover {\n",
              "    background-color: var(--disabled-bg-color);\n",
              "    fill: var(--disabled-fill-color);\n",
              "    box-shadow: none;\n",
              "  }\n",
              "\n",
              "  .colab-df-spinner {\n",
              "    border: 2px solid var(--fill-color);\n",
              "    border-color: transparent;\n",
              "    border-bottom-color: var(--fill-color);\n",
              "    animation:\n",
              "      spin 1s steps(1) infinite;\n",
              "  }\n",
              "\n",
              "  @keyframes spin {\n",
              "    0% {\n",
              "      border-color: transparent;\n",
              "      border-bottom-color: var(--fill-color);\n",
              "      border-left-color: var(--fill-color);\n",
              "    }\n",
              "    20% {\n",
              "      border-color: transparent;\n",
              "      border-left-color: var(--fill-color);\n",
              "      border-top-color: var(--fill-color);\n",
              "    }\n",
              "    30% {\n",
              "      border-color: transparent;\n",
              "      border-left-color: var(--fill-color);\n",
              "      border-top-color: var(--fill-color);\n",
              "      border-right-color: var(--fill-color);\n",
              "    }\n",
              "    40% {\n",
              "      border-color: transparent;\n",
              "      border-right-color: var(--fill-color);\n",
              "      border-top-color: var(--fill-color);\n",
              "    }\n",
              "    60% {\n",
              "      border-color: transparent;\n",
              "      border-right-color: var(--fill-color);\n",
              "    }\n",
              "    80% {\n",
              "      border-color: transparent;\n",
              "      border-right-color: var(--fill-color);\n",
              "      border-bottom-color: var(--fill-color);\n",
              "    }\n",
              "    90% {\n",
              "      border-color: transparent;\n",
              "      border-bottom-color: var(--fill-color);\n",
              "    }\n",
              "  }\n",
              "</style>\n",
              "\n",
              "      <script>\n",
              "        async function quickchart(key) {\n",
              "          const quickchartButtonEl =\n",
              "            document.querySelector('#' + key + ' button');\n",
              "          quickchartButtonEl.disabled = true;  // To prevent multiple clicks.\n",
              "          quickchartButtonEl.classList.add('colab-df-spinner');\n",
              "          try {\n",
              "            const charts = await google.colab.kernel.invokeFunction(\n",
              "                'suggestCharts', [key], {});\n",
              "          } catch (error) {\n",
              "            console.error('Error during call to suggestCharts:', error);\n",
              "          }\n",
              "          quickchartButtonEl.classList.remove('colab-df-spinner');\n",
              "          quickchartButtonEl.classList.add('colab-df-quickchart-complete');\n",
              "        }\n",
              "        (() => {\n",
              "          let quickchartButtonEl =\n",
              "            document.querySelector('#df-e011568a-4fd3-451d-9833-b4cd5993dc3e button');\n",
              "          quickchartButtonEl.style.display =\n",
              "            google.colab.kernel.accessAllowed ? 'block' : 'none';\n",
              "        })();\n",
              "      </script>\n",
              "    </div>\n",
              "\n",
              "  <div id=\"id_71a309e8-b98a-4b70-8b91-f6af876acfd0\">\n",
              "    <style>\n",
              "      .colab-df-generate {\n",
              "        background-color: #E8F0FE;\n",
              "        border: none;\n",
              "        border-radius: 50%;\n",
              "        cursor: pointer;\n",
              "        display: none;\n",
              "        fill: #1967D2;\n",
              "        height: 32px;\n",
              "        padding: 0 0 0 0;\n",
              "        width: 32px;\n",
              "      }\n",
              "\n",
              "      .colab-df-generate:hover {\n",
              "        background-color: #E2EBFA;\n",
              "        box-shadow: 0px 1px 2px rgba(60, 64, 67, 0.3), 0px 1px 3px 1px rgba(60, 64, 67, 0.15);\n",
              "        fill: #174EA6;\n",
              "      }\n",
              "\n",
              "      [theme=dark] .colab-df-generate {\n",
              "        background-color: #3B4455;\n",
              "        fill: #D2E3FC;\n",
              "      }\n",
              "\n",
              "      [theme=dark] .colab-df-generate:hover {\n",
              "        background-color: #434B5C;\n",
              "        box-shadow: 0px 1px 3px 1px rgba(0, 0, 0, 0.15);\n",
              "        filter: drop-shadow(0px 1px 2px rgba(0, 0, 0, 0.3));\n",
              "        fill: #FFFFFF;\n",
              "      }\n",
              "    </style>\n",
              "    <button class=\"colab-df-generate\" onclick=\"generateWithVariable('tym_taken')\"\n",
              "            title=\"Generate code using this dataframe.\"\n",
              "            style=\"display:none;\">\n",
              "\n",
              "  <svg xmlns=\"http://www.w3.org/2000/svg\" height=\"24px\"viewBox=\"0 0 24 24\"\n",
              "       width=\"24px\">\n",
              "    <path d=\"M7,19H8.4L18.45,9,17,7.55,7,17.6ZM5,21V16.75L18.45,3.32a2,2,0,0,1,2.83,0l1.4,1.43a1.91,1.91,0,0,1,.58,1.4,1.91,1.91,0,0,1-.58,1.4L9.25,21ZM18.45,9,17,7.55Zm-12,3A5.31,5.31,0,0,0,4.9,8.1,5.31,5.31,0,0,0,1,6.5,5.31,5.31,0,0,0,4.9,4.9,5.31,5.31,0,0,0,6.5,1,5.31,5.31,0,0,0,8.1,4.9,5.31,5.31,0,0,0,12,6.5,5.46,5.46,0,0,0,6.5,12Z\"/>\n",
              "  </svg>\n",
              "    </button>\n",
              "    <script>\n",
              "      (() => {\n",
              "      const buttonEl =\n",
              "        document.querySelector('#id_71a309e8-b98a-4b70-8b91-f6af876acfd0 button.colab-df-generate');\n",
              "      buttonEl.style.display =\n",
              "        google.colab.kernel.accessAllowed ? 'block' : 'none';\n",
              "\n",
              "      buttonEl.onclick = () => {\n",
              "        google.colab.notebook.generateWithVariable('tym_taken');\n",
              "      }\n",
              "      })();\n",
              "    </script>\n",
              "  </div>\n",
              "\n",
              "    </div>\n",
              "  </div>\n"
            ],
            "application/vnd.google.colaboratory.intrinsic+json": {
              "type": "dataframe",
              "variable_name": "tym_taken",
              "summary": "{\n  \"name\": \"tym_taken\",\n  \"rows\": 346,\n  \"fields\": [\n    {\n      \"column\": \"ID\",\n      \"properties\": {\n        \"dtype\": \"string\",\n        \"num_unique_values\": 346,\n        \"samples\": [\n          \"0x6403\",\n          \"0x1bae\",\n          \"0x99b8\"\n        ],\n        \"semantic_type\": \"\",\n        \"description\": \"\"\n      }\n    },\n    {\n      \"column\": \"Delivery_person_ID\",\n      \"properties\": {\n        \"dtype\": \"string\",\n        \"num_unique_values\": 300,\n        \"samples\": [\n          \"JAPRES17DEL01\",\n          \"MUMRES14DEL02\",\n          \"JAPRES05DEL02\"\n        ],\n        \"semantic_type\": \"\",\n        \"description\": \"\"\n      }\n    },\n    {\n      \"column\": \"Delivery_person_Age\",\n      \"properties\": {\n        \"dtype\": \"number\",\n        \"std\": 4.822817372664201,\n        \"min\": 20.0,\n        \"max\": 39.0,\n        \"num_unique_values\": 21,\n        \"samples\": [\n          37.0,\n          29.566910587697233,\n          22.0\n        ],\n        \"semantic_type\": \"\",\n        \"description\": \"\"\n      }\n    },\n    {\n      \"column\": \"Delivery_person_Ratings\",\n      \"properties\": {\n        \"dtype\": \"number\",\n        \"std\": 0.3612303865154195,\n        \"min\": 3.5,\n        \"max\": 5.0,\n        \"num_unique_values\": 16,\n        \"samples\": [\n          4.7,\n          4.3,\n          4.5\n        ],\n        \"semantic_type\": \"\",\n        \"description\": \"\"\n      }\n    },\n    {\n      \"column\": \"Restaurant_latitude\",\n      \"properties\": {\n        \"dtype\": \"number\",\n        \"std\": 8.049196503163191,\n        \"min\": -22.514119,\n        \"max\": 30.905562,\n        \"num_unique_values\": 195,\n        \"samples\": [\n          21.160522,\n          13.02978,\n          19.121999\n        ],\n        \"semantic_type\": \"\",\n        \"description\": \"\"\n      }\n    },\n    {\n      \"column\": \"Restaurant_longitude\",\n      \"properties\": {\n        \"dtype\": \"number\",\n        \"std\": 23.044595322851308,\n        \"min\": 0.0,\n        \"max\": 88.400467,\n        \"num_unique_values\": 195,\n        \"samples\": [\n          72.771477,\n          80.208812,\n          72.908493\n        ],\n        \"semantic_type\": \"\",\n        \"description\": \"\"\n      }\n    },\n    {\n      \"column\": \"Delivery_location_latitude\",\n      \"properties\": {\n        \"dtype\": \"number\",\n        \"std\": 7.763591403638089,\n        \"min\": 0.03,\n        \"max\": 31.003244,\n        \"num_unique_values\": 300,\n        \"samples\": [\n          18.633934,\n          19.990256,\n          11.133669\n        ],\n        \"semantic_type\": \"\",\n        \"description\": \"\"\n      }\n    },\n    {\n      \"column\": \"Delivery_location_longitude\",\n      \"properties\": {\n        \"dtype\": \"number\",\n        \"std\": 23.046041900592172,\n        \"min\": 0.03,\n        \"max\": 88.530467,\n        \"num_unique_values\": 300,\n        \"samples\": [\n          73.985367,\n          75.433503,\n          77.106494\n        ],\n        \"semantic_type\": \"\",\n        \"description\": \"\"\n      }\n    },\n    {\n      \"column\": \"Order_Date\",\n      \"properties\": {\n        \"dtype\": \"category\",\n        \"num_unique_values\": 43,\n        \"samples\": [\n          \"13-02-2022\",\n          \"02-03-2022\",\n          \"16-02-2022\"\n        ],\n        \"semantic_type\": \"\",\n        \"description\": \"\"\n      }\n    },\n    {\n      \"column\": \"Time_Orderd\",\n      \"properties\": {\n        \"dtype\": \"category\",\n        \"num_unique_values\": 54,\n        \"samples\": [\n          \"13:45\",\n          \"13:40\",\n          \"11:30\"\n        ],\n        \"semantic_type\": \"\",\n        \"description\": \"\"\n      }\n    },\n    {\n      \"column\": \"Time_Order_picked\",\n      \"properties\": {\n        \"dtype\": \"category\",\n        \"num_unique_values\": 59,\n        \"samples\": [\n          \"19:50\",\n          \"13:35\",\n          \"0.875\"\n        ],\n        \"semantic_type\": \"\",\n        \"description\": \"\"\n      }\n    },\n    {\n      \"column\": \"Weather_conditions\",\n      \"properties\": {\n        \"dtype\": \"category\",\n        \"num_unique_values\": 6,\n        \"samples\": [\n          \"Sandstorms\",\n          \"Cloudy\",\n          \"Windy\"\n        ],\n        \"semantic_type\": \"\",\n        \"description\": \"\"\n      }\n    },\n    {\n      \"column\": \"Road_traffic_density\",\n      \"properties\": {\n        \"dtype\": \"category\",\n        \"num_unique_values\": 2,\n        \"samples\": [\n          \"High\",\n          \"Jam\"\n        ],\n        \"semantic_type\": \"\",\n        \"description\": \"\"\n      }\n    },\n    {\n      \"column\": \"Vehicle_condition\",\n      \"properties\": {\n        \"dtype\": \"number\",\n        \"std\": 0,\n        \"min\": 0,\n        \"max\": 0,\n        \"num_unique_values\": 1,\n        \"samples\": [\n          0\n        ],\n        \"semantic_type\": \"\",\n        \"description\": \"\"\n      }\n    },\n    {\n      \"column\": \"Type_of_order\",\n      \"properties\": {\n        \"dtype\": \"category\",\n        \"num_unique_values\": 4,\n        \"samples\": [\n          \"Meal\"\n        ],\n        \"semantic_type\": \"\",\n        \"description\": \"\"\n      }\n    },\n    {\n      \"column\": \"Type_of_vehicle\",\n      \"properties\": {\n        \"dtype\": \"category\",\n        \"num_unique_values\": 1,\n        \"samples\": [\n          \"motorcycle\"\n        ],\n        \"semantic_type\": \"\",\n        \"description\": \"\"\n      }\n    },\n    {\n      \"column\": \"multiple_deliveries\",\n      \"properties\": {\n        \"dtype\": \"number\",\n        \"std\": 0.9800087704958587,\n        \"min\": 0.0,\n        \"max\": 3.0,\n        \"num_unique_values\": 4,\n        \"samples\": [\n          1.0\n        ],\n        \"semantic_type\": \"\",\n        \"description\": \"\"\n      }\n    },\n    {\n      \"column\": \"Festival\",\n      \"properties\": {\n        \"dtype\": \"category\",\n        \"num_unique_values\": 2,\n        \"samples\": [\n          \"Yes\"\n        ],\n        \"semantic_type\": \"\",\n        \"description\": \"\"\n      }\n    },\n    {\n      \"column\": \"City\",\n      \"properties\": {\n        \"dtype\": \"category\",\n        \"num_unique_values\": 3,\n        \"samples\": [\n          \"Metropolitian\"\n        ],\n        \"semantic_type\": \"\",\n        \"description\": \"\"\n      }\n    },\n    {\n      \"column\": \"Time_taken (min)\",\n      \"properties\": {\n        \"dtype\": \"number\",\n        \"std\": 1,\n        \"min\": 51,\n        \"max\": 54,\n        \"num_unique_values\": 4,\n        \"samples\": [\n          54\n        ],\n        \"semantic_type\": \"\",\n        \"description\": \"\"\n      }\n    }\n  ]\n}"
            }
          },
          "metadata": {},
          "execution_count": 57
        }
      ]
    },
    {
      "cell_type": "markdown",
      "source": [
        "#**most common orders**"
      ],
      "metadata": {
        "id": "RvgB1QJu010a"
      }
    },
    {
      "cell_type": "code",
      "source": [
        "plt.figure(figsize=(8,5))\n",
        "sns.countplot(x='Type_of_order', data=df, order=df['Type_of_order'].value_counts().index)\n",
        "plt.title(\"Most Common Order Types\")\n",
        "plt.xlabel(\"Type of Order\")\n",
        "plt.ylabel(\"Count\")\n",
        "plt.show()\n"
      ],
      "metadata": {
        "colab": {
          "base_uri": "https://localhost:8080/",
          "height": 487
        },
        "id": "d3TWqrEF04zt",
        "outputId": "d7c24b06-dcd5-471e-c990-5a00b4ae5e46"
      },
      "execution_count": 60,
      "outputs": [
        {
          "output_type": "display_data",
          "data": {
            "text/plain": [
              "<Figure size 800x500 with 1 Axes>"
            ],
            "image/png": "[encoded data removed]"
          },
          "metadata": {}
        }
      ]
    },
    {
      "cell_type": "code",
      "source": [
        "df['Type_of_order'].value_counts()"
      ],
      "metadata": {
        "colab": {
          "base_uri": "https://localhost:8080/",
          "height": 241
        },
        "id": "iK3fZ5WD1Mh1",
        "outputId": "9f4cb261-5289-470b-8435-772dc977b6f7"
      },
      "execution_count": 61,
      "outputs": [
        {
          "output_type": "execute_result",
          "data": {
            "text/plain": [
              "Type_of_order\n",
              "Snack     11088\n",
              "Meal      11016\n",
              "Drinks    10896\n",
              "Buffet    10853\n",
              "Name: count, dtype: int64"
            ],
            "text/html": [
              "<div>\n",
              "<style scoped>\n",
              "    .dataframe tbody tr th:only-of-type {\n",
              "        vertical-align: middle;\n",
              "    }\n",
              "\n",
              "    .dataframe tbody tr th {\n",
              "        vertical-align: top;\n",
              "    }\n",
              "\n",
              "    .dataframe thead th {\n",
              "        text-align: right;\n",
              "    }\n",
              "</style>\n",
              "<table border=\"1\" class=\"dataframe\">\n",
              "  <thead>\n",
              "    <tr style=\"text-align: right;\">\n",
              "      <th></th>\n",
              "      <th>count</th>\n",
              "    </tr>\n",
              "    <tr>\n",
              "      <th>Type_of_order</th>\n",
              "      <th></th>\n",
              "    </tr>\n",
              "  </thead>\n",
              "  <tbody>\n",
              "    <tr>\n",
              "      <th>Snack</th>\n",
              "      <td>11088</td>\n",
              "    </tr>\n",
              "    <tr>\n",
              "      <th>Meal</th>\n",
              "      <td>11016</td>\n",
              "    </tr>\n",
              "    <tr>\n",
              "      <th>Drinks</th>\n",
              "      <td>10896</td>\n",
              "    </tr>\n",
              "    <tr>\n",
              "      <th>Buffet</th>\n",
              "      <td>10853</td>\n",
              "    </tr>\n",
              "  </tbody>\n",
              "</table>\n",
              "</div><br><label><b>dtype:</b> int64</label>"
            ]
          },
          "metadata": {},
          "execution_count": 61
        }
      ]
    },
    {
      "cell_type": "markdown",
      "source": [
        "#**age distribution of persons**"
      ],
      "metadata": {
        "id": "je-h23e31dWH"
      }
    },
    {
      "cell_type": "code",
      "source": [
        "plt.figure(figsize=(8,5))\n",
        "sns.histplot(df['Delivery_person_Age'], bins=15, kde=True, color=\"orange\")\n",
        "plt.title(\"Age Distribution of Delivery Persons\")\n",
        "plt.xlabel(\"Age\")\n",
        "plt.ylabel(\"Count\")\n",
        "plt.show()\n"
      ],
      "metadata": {
        "colab": {
          "base_uri": "https://localhost:8080/",
          "height": 487
        },
        "id": "e9q__iSe1QWK",
        "outputId": "38f288b9-119b-4932-d0f4-104bf9741ee9"
      },
      "execution_count": 62,
      "outputs": [
        {
          "output_type": "display_data",
          "data": {
            "text/plain": [
              "<Figure size 800x500 with 1 Axes>"
            ],
            "image/png": "[encoded data removed]"
          },
          "metadata": {}
        }
      ]
    },
    {
      "cell_type": "markdown",
      "source": [
        "📊 Insights from Age Distribution of Delivery Persons\n",
        "\n",
        "Age Concentration\n",
        "\n",
        "Most delivery persons fall in the 20–35 age range.\n",
        "\n",
        "This shows delivery jobs are dominated by younger workforce.\n",
        "\n",
        "Peak Range\n",
        "\n",
        "The highest frequency is usually between 22–28 years (fresh graduates, part-timers).\n",
        "\n",
        "This indicates that delivery services are a popular job option for young adults.\n",
        "\n",
        "\n",
        "Business Insight\n",
        "\n",
        "Companies may target younger age groups for recruitment."
      ],
      "metadata": {
        "id": "MrXIws8O300J"
      }
    },
    {
      "cell_type": "code",
      "source": [
        "df['Delivery_person_Age'].value_counts()"
      ],
      "metadata": {
        "colab": {
          "base_uri": "https://localhost:8080/",
          "height": 774
        },
        "id": "vjCNMJkX3VYt",
        "outputId": "d2c42823-4f0f-4405-cb7f-81911fad55ee"
      },
      "execution_count": 76,
      "outputs": [
        {
          "output_type": "execute_result",
          "data": {
            "text/plain": [
              "Delivery_person_Age\n",
              "35.000000    2261\n",
              "36.000000    2260\n",
              "37.000000    2226\n",
              "30.000000    2226\n",
              "38.000000    2218\n",
              "24.000000    2210\n",
              "32.000000    2201\n",
              "22.000000    2194\n",
              "29.000000    2191\n",
              "33.000000    2186\n",
              "28.000000    2179\n",
              "25.000000    2174\n",
              "34.000000    2165\n",
              "26.000000    2159\n",
              "21.000000    2153\n",
              "27.000000    2150\n",
              "39.000000    2144\n",
              "20.000000    2136\n",
              "31.000000    2120\n",
              "23.000000    2086\n",
              "29.566911     214\n",
              "Name: count, dtype: int64"
            ],
            "text/html": [
              "<div>\n",
              "<style scoped>\n",
              "    .dataframe tbody tr th:only-of-type {\n",
              "        vertical-align: middle;\n",
              "    }\n",
              "\n",
              "    .dataframe tbody tr th {\n",
              "        vertical-align: top;\n",
              "    }\n",
              "\n",
              "    .dataframe thead th {\n",
              "        text-align: right;\n",
              "    }\n",
              "</style>\n",
              "<table border=\"1\" class=\"dataframe\">\n",
              "  <thead>\n",
              "    <tr style=\"text-align: right;\">\n",
              "      <th></th>\n",
              "      <th>count</th>\n",
              "    </tr>\n",
              "    <tr>\n",
              "      <th>Delivery_person_Age</th>\n",
              "      <th></th>\n",
              "    </tr>\n",
              "  </thead>\n",
              "  <tbody>\n",
              "    <tr>\n",
              "      <th>35.000000</th>\n",
              "      <td>2261</td>\n",
              "    </tr>\n",
              "    <tr>\n",
              "      <th>36.000000</th>\n",
              "      <td>2260</td>\n",
              "    </tr>\n",
              "    <tr>\n",
              "      <th>37.000000</th>\n",
              "      <td>2226</td>\n",
              "    </tr>\n",
              "    <tr>\n",
              "      <th>30.000000</th>\n",
              "      <td>2226</td>\n",
              "    </tr>\n",
              "    <tr>\n",
              "      <th>38.000000</th>\n",
              "      <td>2218</td>\n",
              "    </tr>\n",
              "    <tr>\n",
              "      <th>24.000000</th>\n",
              "      <td>2210</td>\n",
              "    </tr>\n",
              "    <tr>\n",
              "      <th>32.000000</th>\n",
              "      <td>2201</td>\n",
              "    </tr>\n",
              "    <tr>\n",
              "      <th>22.000000</th>\n",
              "      <td>2194</td>\n",
              "    </tr>\n",
              "    <tr>\n",
              "      <th>29.000000</th>\n",
              "      <td>2191</td>\n",
              "    </tr>\n",
              "    <tr>\n",
              "      <th>33.000000</th>\n",
              "      <td>2186</td>\n",
              "    </tr>\n",
              "    <tr>\n",
              "      <th>28.000000</th>\n",
              "      <td>2179</td>\n",
              "    </tr>\n",
              "    <tr>\n",
              "      <th>25.000000</th>\n",
              "      <td>2174</td>\n",
              "    </tr>\n",
              "    <tr>\n",
              "      <th>34.000000</th>\n",
              "      <td>2165</td>\n",
              "    </tr>\n",
              "    <tr>\n",
              "      <th>26.000000</th>\n",
              "      <td>2159</td>\n",
              "    </tr>\n",
              "    <tr>\n",
              "      <th>21.000000</th>\n",
              "      <td>2153</td>\n",
              "    </tr>\n",
              "    <tr>\n",
              "      <th>27.000000</th>\n",
              "      <td>2150</td>\n",
              "    </tr>\n",
              "    <tr>\n",
              "      <th>39.000000</th>\n",
              "      <td>2144</td>\n",
              "    </tr>\n",
              "    <tr>\n",
              "      <th>20.000000</th>\n",
              "      <td>2136</td>\n",
              "    </tr>\n",
              "    <tr>\n",
              "      <th>31.000000</th>\n",
              "      <td>2120</td>\n",
              "    </tr>\n",
              "    <tr>\n",
              "      <th>23.000000</th>\n",
              "      <td>2086</td>\n",
              "    </tr>\n",
              "    <tr>\n",
              "      <th>29.566911</th>\n",
              "      <td>214</td>\n",
              "    </tr>\n",
              "  </tbody>\n",
              "</table>\n",
              "</div><br><label><b>dtype:</b> int64</label>"
            ]
          },
          "metadata": {},
          "execution_count": 76
        }
      ]
    },
    {
      "cell_type": "markdown",
      "source": [
        "#**rating distribution**"
      ],
      "metadata": {
        "id": "zlbUfShL4CWR"
      }
    },
    {
      "cell_type": "code",
      "source": [
        "plt.figure(figsize=(8,5))\n",
        "sns.histplot(df['Delivery_person_Ratings'], bins=8, kde=True, color=\"green\")\n",
        "plt.title(\"Distribution of Delivery Person Ratings\")\n",
        "plt.xlabel(\"Ratings\")\n",
        "plt.ylabel(\"Count\")\n",
        "plt.show()"
      ],
      "metadata": {
        "colab": {
          "base_uri": "https://localhost:8080/",
          "height": 487
        },
        "id": "aLE6RTe_4EXa",
        "outputId": "f18ec0f7-ee2f-4639-f6a1-ddf5dd592f87"
      },
      "execution_count": 78,
      "outputs": [
        {
          "output_type": "display_data",
          "data": {
            "text/plain": [
              "<Figure size 800x500 with 1 Axes>"
            ],
            "image/png": "[encoded data removed]"
          },
          "metadata": {}
        }
      ]
    },
    {
      "cell_type": "markdown",
      "source": [
        ":\n",
        "\n",
        "📊 Insights from Ratings Distribution\n",
        "\n",
        "Ratings Concentration\n",
        "\n",
        "Most delivery persons have ratings between 4.0 and 5.0.\n",
        "\n",
        "Indicates generally high customer satisfaction.\n",
        "\n",
        "Peak Rating Range\n",
        "\n",
        "The highest frequency is typically around 4.5–4.8.\n",
        "\n",
        "Suggests that customers often give good feedback unless service is very poor.\n",
        "\n",
        "Low Ratings are Rare\n",
        "\n",
        "Very few ratings below 3.5, meaning bad delivery experiences are uncommon.\n",
        "\n",
        "Customer Behavior Insight\n",
        "\n",
        "Customers may tend to give positive ratings more often (leniency bias).\n",
        "\n",
        "Negative experiences (like late delivery or rude behavior) stand out, leading to occasional low ratings."
      ],
      "metadata": {
        "id": "2Dzt7ZQ6cZSu"
      }
    },
    {
      "cell_type": "markdown",
      "source": [
        "# **Bivariate Analysis**"
      ],
      "metadata": {
        "id": "_CdkNIW_ce9z"
      }
    },
    {
      "cell_type": "markdown",
      "source": [
        "#Delivery time vs Weather conditions"
      ],
      "metadata": {
        "id": "oel3iGJPci1_"
      }
    },
    {
      "cell_type": "code",
      "source": [
        "plt.figure(figsize=(8,5))\n",
        "sns.boxplot(x='Weather_conditions', y='Time_taken (min)', data=df, palette=\"Set2\")\n",
        "plt.title(\"Delivery Time vs Weather Conditions\")\n",
        "plt.xlabel(\"Weather Conditions\")\n",
        "plt.ylabel(\"Delivery Time (min)\")\n",
        "plt.xticks(rotation=45)\n",
        "plt.show()\n"
      ],
      "metadata": {
        "colab": {
          "base_uri": "https://localhost:8080/",
          "height": 628
        },
        "id": "YDAQ7mhuciHe",
        "outputId": "2c74885c-e9b5-4eed-b375-ff556666c631"
      },
      "execution_count": 8,
      "outputs": [
        {
          "output_type": "stream",
          "name": "stderr",
          "text": [
            "/tmp/ipython-input-2679195804.py:2: FutureWarning: \n",
            "\n",
            "Passing `palette` without assigning `hue` is deprecated and will be removed in v0.14.0. Assign the `x` variable to `hue` and set `legend=False` for the same effect.\n",
            "\n",
            "  sns.boxplot(x='Weather_conditions', y='Time_taken (min)', data=df, palette=\"Set2\")\n"
          ]
        },
        {
          "output_type": "display_data",
          "data": {
            "text/plain": [
              "<Figure size 800x500 with 1 Axes>"
            ],
            "image/png": "[encoded data removed]"
          },
          "metadata": {}
        }
      ]
    },
    {
      "cell_type": "markdown",
      "source": [
        "✅ Insights:\n",
        "\n",
        "Bad weather (Fog, Stormy, Sandstorms) → delivery time increases.\n",
        "\n",
        "Clear weather → faster deliveries."
      ],
      "metadata": {
        "id": "fdb9EA56flqh"
      }
    },
    {
      "cell_type": "markdown",
      "source": [
        "#2. Delivery Time vs Traffic Density"
      ],
      "metadata": {
        "id": "7_Tin0y8fu_3"
      }
    },
    {
      "cell_type": "code",
      "source": [
        "plt.figure(figsize=(7,5))\n",
        "sns.barplot(x='Road_traffic_density', y='Time_taken (min)',\n",
        "            data=df, estimator=np.mean, palette=\"Set2\")\n",
        "plt.title(\"Average Delivery Time by Traffic Density\")\n",
        "plt.xlabel(\"Traffic Density\")\n",
        "plt.ylabel(\"Average Delivery Time (min)\")\n",
        "plt.show()\n",
        "\n"
      ],
      "metadata": {
        "colab": {
          "base_uri": "https://localhost:8080/",
          "height": 574
        },
        "id": "MBh88Ka0fniF",
        "outputId": "3acb1cf6-127c-4704-9470-8d829e3d2145"
      },
      "execution_count": 15,
      "outputs": [
        {
          "output_type": "stream",
          "name": "stderr",
          "text": [
            "/tmp/ipython-input-682296059.py:2: FutureWarning: \n",
            "\n",
            "Passing `palette` without assigning `hue` is deprecated and will be removed in v0.14.0. Assign the `x` variable to `hue` and set `legend=False` for the same effect.\n",
            "\n",
            "  sns.barplot(x='Road_traffic_density', y='Time_taken (min)',\n"
          ]
        },
        {
          "output_type": "display_data",
          "data": {
            "text/plain": [
              "<Figure size 700x500 with 1 Axes>"
            ],
            "image/png": "[encoded data removed]"
          },
          "metadata": {}
        }
      ]
    },
    {
      "cell_type": "markdown",
      "source": [
        "✅ Insights:\n",
        "\n",
        "High traffic/Jam → highest delivery times.\n",
        "\n",
        "Low traffic → fastest deliveries.\n",
        "\n",
        "Strong correlation: more traffic → more time."
      ],
      "metadata": {
        "id": "Um39lgEMf4zq"
      }
    },
    {
      "cell_type": "markdown",
      "source": [
        "#3. Delivery Time vs Order Type"
      ],
      "metadata": {
        "id": "oZoZ62odf6DP"
      }
    },
    {
      "cell_type": "code",
      "source": [
        "plt.figure(figsize=(8,5))\n",
        "sns.boxplot(x='Type_of_order', y='Time_taken (min)', data=df, palette=\"Set1\")\n",
        "plt.title(\"Delivery Time vs Order Type\")\n",
        "plt.xlabel(\"Order Type\")\n",
        "plt.ylabel(\"Delivery Time (min)\")\n",
        "plt.show()\n"
      ],
      "metadata": {
        "colab": {
          "base_uri": "https://localhost:8080/",
          "height": 574
        },
        "id": "b5uiZjzBgKuF",
        "outputId": "fd9628a0-083e-414c-b60c-ade497d787c5"
      },
      "execution_count": 10,
      "outputs": [
        {
          "output_type": "stream",
          "name": "stderr",
          "text": [
            "/tmp/ipython-input-3303057144.py:2: FutureWarning: \n",
            "\n",
            "Passing `palette` without assigning `hue` is deprecated and will be removed in v0.14.0. Assign the `x` variable to `hue` and set `legend=False` for the same effect.\n",
            "\n",
            "  sns.boxplot(x='Type_of_order', y='Time_taken (min)', data=df, palette=\"Set1\")\n"
          ]
        },
        {
          "output_type": "display_data",
          "data": {
            "text/plain": [
              "<Figure size 800x500 with 1 Axes>"
            ],
            "image/png": "[encoded data removed]"
          },
          "metadata": {}
        }
      ]
    },
    {
      "cell_type": "markdown",
      "source": [
        "✅ Insights:\n",
        "\n",
        "Buffets & Meals usually take longer (large/complex orders).\n",
        "\n",
        "Snacks & Drinks are delivered faster."
      ],
      "metadata": {
        "id": "YBmsm-dWgY1v"
      }
    },
    {
      "cell_type": "markdown",
      "source": [
        "#4. Delivery Time vs Festival Days"
      ],
      "metadata": {
        "id": "dgKGFQ04ifiA"
      }
    },
    {
      "cell_type": "code",
      "source": [
        "plt.figure(figsize=(6,5))\n",
        "sns.barplot(x='Festival', y='Time_taken (min)', data=df, estimator=np.mean, palette=\"pastel\")\n",
        "plt.title(\"Average Delivery Time: Festival vs Non-Festival Days\")\n",
        "plt.xlabel(\"Festival\")\n",
        "plt.ylabel(\"Average Time Taken (min)\")\n",
        "plt.show()\n",
        "\n"
      ],
      "metadata": {
        "colab": {
          "base_uri": "https://localhost:8080/",
          "height": 574
        },
        "id": "wTXHaZ-tih8W",
        "outputId": "ac6eabb1-113a-4179-b70a-8afd962aa4b4"
      },
      "execution_count": 13,
      "outputs": [
        {
          "output_type": "stream",
          "name": "stderr",
          "text": [
            "/tmp/ipython-input-2090830676.py:2: FutureWarning: \n",
            "\n",
            "Passing `palette` without assigning `hue` is deprecated and will be removed in v0.14.0. Assign the `x` variable to `hue` and set `legend=False` for the same effect.\n",
            "\n",
            "  sns.barplot(x='Festival', y='Time_taken (min)', data=df, estimator=np.mean, palette=\"pastel\")\n"
          ]
        },
        {
          "output_type": "display_data",
          "data": {
            "text/plain": [
              "<Figure size 600x500 with 1 Axes>"
            ],
            "image/png": "[encoded data removed]"
          },
          "metadata": {}
        }
      ]
    },
    {
      "cell_type": "markdown",
      "source": [
        "✅ Insights:\n",
        "\n",
        "Festival days show longer delivery times due to higher demand and traffic.\n",
        "\n",
        "Non-festival days are more stable."
      ],
      "metadata": {
        "id": "MxAmbIrmjZ52"
      }
    },
    {
      "cell_type": "markdown",
      "source": [
        "#5. Delivery Time vs Multiple Deliveries"
      ],
      "metadata": {
        "id": "iV3KC0XNjy9y"
      }
    },
    {
      "cell_type": "code",
      "source": [
        "plt.figure(figsize=(6,5))\n",
        "sns.boxplot(x='multiple_deliveries', y='Time_taken (min)', data=df, palette=\"coolwarm\")\n",
        "plt.title(\"Delivery Time vs Multiple Deliveries\")\n",
        "plt.xlabel(\"Multiple Deliveries\")\n",
        "plt.ylabel(\"Delivery Time (min)\")\n",
        "plt.show()\n"
      ],
      "metadata": {
        "colab": {
          "base_uri": "https://localhost:8080/",
          "height": 574
        },
        "id": "D16IQNvcj53E",
        "outputId": "4238e252-d18b-4beb-c3b1-3a6d31ac3b83"
      },
      "execution_count": 12,
      "outputs": [
        {
          "output_type": "stream",
          "name": "stderr",
          "text": [
            "/tmp/ipython-input-3043899547.py:2: FutureWarning: \n",
            "\n",
            "Passing `palette` without assigning `hue` is deprecated and will be removed in v0.14.0. Assign the `x` variable to `hue` and set `legend=False` for the same effect.\n",
            "\n",
            "  sns.boxplot(x='multiple_deliveries', y='Time_taken (min)', data=df, palette=\"coolwarm\")\n"
          ]
        },
        {
          "output_type": "display_data",
          "data": {
            "text/plain": [
              "<Figure size 600x500 with 1 Axes>"
            ],
            "image/png": "[encoded data removed]"
          },
          "metadata": {}
        }
      ]
    },
    {
      "cell_type": "markdown",
      "source": [
        "✅ Insights:\n",
        "\n",
        "Single deliveries (0 or 1) are faster.\n",
        "\n",
        "More multiple deliveries (2, 3+) → significantly higher delivery time."
      ],
      "metadata": {
        "id": "XrTqXd0_kBui"
      }
    },
    {
      "cell_type": "markdown",
      "source": [
        "#multivariate Analysis"
      ],
      "metadata": {
        "id": "aWns20sekCtN"
      }
    },
    {
      "cell_type": "markdown",
      "source": [
        "#1. Which Vehicle Type + City Combination is Fastest?"
      ],
      "metadata": {
        "id": "Xu3HXYBtmSFD"
      }
    },
    {
      "cell_type": "code",
      "source": [
        "vehicle_city_time = df.groupby(['Type_of_vehicle', 'City'])['Time_taken (min)'].mean().reset_index()\n",
        "\n",
        "plt.figure(figsize=(8,6))\n",
        "sns.barplot(x='Type_of_vehicle', y='Time_taken (min)', hue='City', data=vehicle_city_time, palette=\"Set2\")\n",
        "plt.title(\"Average Delivery Time by Vehicle Type & City\")\n",
        "plt.ylabel(\"Average Time Taken (min)\")\n",
        "plt.show()\n"
      ],
      "metadata": {
        "colab": {
          "base_uri": "https://localhost:8080/",
          "height": 564
        },
        "id": "75LFx7wumU4U",
        "outputId": "945c3b89-9902-4551-d89d-d6327948917f"
      },
      "execution_count": 20,
      "outputs": [
        {
          "output_type": "display_data",
          "data": {
            "text/plain": [
              "<Figure size 800x600 with 1 Axes>"
            ],
            "image/png": "[encoded data removed]"
          },
          "metadata": {}
        }
      ]
    },
    {
      "cell_type": "markdown",
      "source": [
        "✅ Insights:\n",
        "\n",
        "Motorcycles in metro cities are usually fastest.\n",
        "\n",
        "Scooters may be slower for long distances.\n",
        "\n",
        "Smaller towns may show less difference since traffic is lighter."
      ],
      "metadata": {
        "id": "YUgjUy7mmhW0"
      }
    },
    {
      "cell_type": "markdown",
      "source": [
        "#Are Older Drivers Faster or Slower?"
      ],
      "metadata": {
        "id": "sYGlz8sAmipG"
      }
    },
    {
      "cell_type": "markdown",
      "source": [
        "create age groups"
      ],
      "metadata": {
        "id": "w92s4xMZnBiC"
      }
    },
    {
      "cell_type": "code",
      "source": [
        "df['Age_Group'] = pd.cut(df['Delivery_person_Age'],\n",
        "                         bins=[15,25,35,45,60],\n",
        "                         labels=['18–25','26–35','36–45','46+'])\n"
      ],
      "metadata": {
        "id": "M6-C9v2SnDrz"
      },
      "execution_count": 22,
      "outputs": []
    },
    {
      "cell_type": "code",
      "source": [
        "plt.figure(figsize=(7,5))\n",
        "sns.barplot(x='Age_Group', y='Time_taken (min)', data=df, estimator=np.mean, palette=\"Set1\")\n",
        "plt.title(\"Average Delivery Time by Age Group of Delivery Person\")\n",
        "plt.xlabel(\"Age Group\")\n",
        "plt.ylabel(\"Average Delivery Time (min)\")\n",
        "plt.show()\n"
      ],
      "metadata": {
        "colab": {
          "base_uri": "https://localhost:8080/",
          "height": 574
        },
        "id": "XYtHW5bcnGin",
        "outputId": "1ad20a50-7138-4915-9c8e-45b01bae831f"
      },
      "execution_count": 28,
      "outputs": [
        {
          "output_type": "stream",
          "name": "stderr",
          "text": [
            "/tmp/ipython-input-2065676559.py:2: FutureWarning: \n",
            "\n",
            "Passing `palette` without assigning `hue` is deprecated and will be removed in v0.14.0. Assign the `x` variable to `hue` and set `legend=False` for the same effect.\n",
            "\n",
            "  sns.barplot(x='Age_Group', y='Time_taken (min)', data=df, estimator=np.mean, palette=\"Set1\")\n"
          ]
        },
        {
          "output_type": "display_data",
          "data": {
            "text/plain": [
              "<Figure size 700x500 with 1 Axes>"
            ],
            "image/png": "[encoded data removed]"
          },
          "metadata": {}
        }
      ]
    },
    {
      "cell_type": "markdown",
      "source": [
        "📊 Expected Insights\n",
        "\n",
        "18–25 years → Fastest deliveries (more energy, speed).\n",
        "\n",
        "26–35 years → Balanced performance (slightly slower than 18–25).\n",
        "\n",
        "36–45 years → Delivery time increases moderately.\n",
        "\n",
        "46+ years → Slowest group, likely due to caution or experience-based careful driving."
      ],
      "metadata": {
        "id": "iaQwOMZEnMjz"
      }
    },
    {
      "cell_type": "markdown",
      "source": [],
      "metadata": {
        "id": "b3KJIm50nN3-"
      }
    }
  ]
}